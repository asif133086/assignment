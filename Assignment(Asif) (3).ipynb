{
 "cells": [
  {
   "cell_type": "code",
   "execution_count": null,
   "id": "4545c683-c6f9-4b0f-91ac-b33904c7a7bf",
   "metadata": {},
   "outputs": [
    {
     "name": "stdin",
     "output_type": "stream",
     "text": [
      "Enter two integer numbers :  12 13\n"
     ]
    }
   ],
   "source": [
    "#1.Write a Python program to swap the values of two variables without using a temporary variable.\n",
    "a,b = map(int,input(\"Enter two integer numbers : \").split())\n",
    "print(\"value of a \" + str(a),\" and value of b \" + str(b))\n",
    "a,b = b,a\n",
    "print(\"value of a \" + str(a),\" and value of b \" + str(b))"
   ]
  },
  {
   "cell_type": "code",
   "execution_count": 3,
   "id": "70391d89-d933-410d-b6ff-ab47fede93eb",
   "metadata": {},
   "outputs": [
    {
     "name": "stdin",
     "output_type": "stream",
     "text": [
      "Enter a integer number : 13\n"
     ]
    },
    {
     "name": "stdout",
     "output_type": "stream",
     "text": [
      "13  is an odd number\n"
     ]
    }
   ],
   "source": [
    "#2.Write a Python program that takes an integer as input and prints whether it is even or odd.\n",
    "def even_odd(n):\n",
    "    if n%2 == 0:\n",
    "        return True\n",
    "    else:\n",
    "        return False\n",
    "n = int(input(\"Enter a integer number :\"))\n",
    "a = even_odd(n)\n",
    "if a:\n",
    "    print(n,\"is an even number.\")\n",
    "else:\n",
    "    print(n,\"is an odd number.\")\n",
    "    "
   ]
  },
  {
   "cell_type": "code",
   "execution_count": 5,
   "id": "d823ee01-d02d-4461-9073-24d628e4478d",
   "metadata": {},
   "outputs": [
    {
     "name": "stdin",
     "output_type": "stream",
     "text": [
      "Enter a string :  Imran\n"
     ]
    },
    {
     "name": "stdout",
     "output_type": "stream",
     "text": [
      "narmI\n"
     ]
    }
   ],
   "source": [
    "#3.Write a Python function to reverse a given string and return the reversed string.\n",
    "st = input(\"Enter a string : \")\n",
    "reversed_st = st[::-1]\n",
    "print(reversed_st)"
   ]
  },
  {
   "cell_type": "code",
   "execution_count": 9,
   "id": "f5db3102-288b-4202-832f-0758ba4a7a5a",
   "metadata": {},
   "outputs": [
    {
     "name": "stdout",
     "output_type": "stream",
     "text": [
      "[1, 2, 3, 4, 5]\n",
      "['1', '2', '3', '4', '5']\n"
     ]
    }
   ],
   "source": [
    "#4.Given a list of integers, write a Python program to convert each element of the list to a string.\n",
    "A = [1,2,3,4,5]\n",
    "B = list(map(str,A))\n",
    "print(A)\n",
    "print(B)"
   ]
  },
  {
   "cell_type": "code",
   "execution_count": 31,
   "id": "6ac39f4a-432c-40e8-9c62-6a788e733d45",
   "metadata": {},
   "outputs": [
    {
     "name": "stdin",
     "output_type": "stream",
     "text": [
      "Enter a floating point as temperature in celcius: 78\n"
     ]
    },
    {
     "name": "stdout",
     "output_type": "stream",
     "text": [
      "78.0 celcius is equal to 172.4 farenheit.\n"
     ]
    }
   ],
   "source": [
    "#5.Write a Python program that converts a temperature in Celsius to Fahrenheit. Take the Celsius temperature as input from the user.\n",
    "Celcius = float(input(\"Enter a floating point as temperature in celcius:\"))\n",
    "Farenheit = (Celcius*9/5) + 32 \n",
    "print(f\"{Celcius} celcius is equal to {Farenheit} farenheit.\")"
   ]
  },
  {
   "cell_type": "code",
   "execution_count": 11,
   "id": "9e33d3cd-6256-4974-969b-8b407b54f413",
   "metadata": {},
   "outputs": [
    {
     "name": "stdin",
     "output_type": "stream",
     "text": [
      "Enter anything you want:  3.4\n"
     ]
    },
    {
     "name": "stdout",
     "output_type": "stream",
     "text": [
      "The required data type is: float\n"
     ]
    }
   ],
   "source": [
    "#6.Write a Python function that takes a variable as input and returns the data type of the variable as a string (e.g., “int”, “float”, “str”, “list”, etc.).\n",
    "def find_data_type():\n",
    "    a = input(\"Enter anything you want: \")\n",
    "    try:\n",
    "        x = eval(a)\n",
    "    except:\n",
    "        x = a\n",
    "    return type(x).__name__\n",
    "print(\"The required data type is: \" + find_data_type())"
   ]
  },
  {
   "cell_type": "code",
   "execution_count": 15,
   "id": "35e43a3a-466a-4d9f-82d8-1fd5be895b26",
   "metadata": {},
   "outputs": [
    {
     "name": "stdin",
     "output_type": "stream",
     "text": [
      "Enter a nice string: asa\n"
     ]
    },
    {
     "name": "stdout",
     "output_type": "stream",
     "text": [
      "Yes,it is a palindromic string.\n"
     ]
    }
   ],
   "source": [
    "#7.Write a Python function to check if a given string is a palindrome or not.\n",
    "def palindrome_check(string):\n",
    "    return string == string[::-1]\n",
    "string = input(\"Enter a nice string:\")\n",
    "if palindrome_check(string):\n",
    "    print(\"Yes,it is a palindromic string.\")\n",
    "else:\n",
    "    print(\"No,it is not a palindromic string.\")\n",
    "    "
   ]
  },
  {
   "cell_type": "code",
   "execution_count": 19,
   "id": "747210ba-38a6-4056-a721-6877c13d24ca",
   "metadata": {},
   "outputs": [
    {
     "name": "stdin",
     "output_type": "stream",
     "text": [
      "Enter a string : Imran Ahmed Asif\n"
     ]
    },
    {
     "name": "stdout",
     "output_type": "stream",
     "text": [
      "The reverse string is :fisA demhA narmI\n"
     ]
    }
   ],
   "source": [
    "#8.Write a Python function to reverse a given string using slicing.\n",
    "def rev_st(string):\n",
    "    return string[::-1]\n",
    "string = input(\"Enter a string :\")\n",
    "print(\"The reverse string is :\" + rev_st(string))"
   ]
  },
  {
   "cell_type": "code",
   "execution_count": 21,
   "id": "6092fb7a-9389-49fd-b438-ad1effb9486f",
   "metadata": {},
   "outputs": [
    {
     "name": "stdin",
     "output_type": "stream",
     "text": [
      "Enter the first string: Imran\n",
      "Enter the second string: Ahmed\n"
     ]
    },
    {
     "name": "stdout",
     "output_type": "stream",
     "text": [
      "The required result is :ImranAhmed\n"
     ]
    }
   ],
   "source": [
    "#9.Write a Python program that takes two strings as input and concatenates them into a single string without using the `+` operator.\n",
    "def concatenate_string(string1,string2):\n",
    "    return ''.join([string1,string2])\n",
    "str1 = input(\"Enter the first string:\")\n",
    "str2 = input(\"Enter the second string:\")\n",
    "result = concatenate_string(str1,str2)\n",
    "print(\"The required result is :\" + result)"
   ]
  },
  {
   "cell_type": "code",
   "execution_count": null,
   "id": "3436a147-d047-49f3-b266-854bf3c4745c",
   "metadata": {},
   "outputs": [],
   "source": [
    "#10."
   ]
  },
  {
   "cell_type": "code",
   "execution_count": 27,
   "id": "971860dc-c4ef-460b-9fd6-c5631fa021cb",
   "metadata": {},
   "outputs": [
    {
     "name": "stdin",
     "output_type": "stream",
     "text": [
      "Enter any integer number: -23\n"
     ]
    },
    {
     "name": "stdout",
     "output_type": "stream",
     "text": [
      "The type of the integer number is :negative\n"
     ]
    }
   ],
   "source": [
    "#11.Write a Python program that takes a number as input and prints whether it is positive, negative, or zero.\n",
    "def checker(n):\n",
    "    if n == 0:\n",
    "        return \"zero\"\n",
    "    elif n > 0:\n",
    "        return \"positive\"\n",
    "    else:\n",
    "        return \"negative\"\n",
    "n = int(input(\"Enter any integer number:\"))\n",
    "print(\"The type of the integer number is :\" + checker(n))    "
   ]
  },
  {
   "cell_type": "code",
   "execution_count": 37,
   "id": "e145b671-f571-42df-bf57-a3dbfcdf7646",
   "metadata": {},
   "outputs": [
    {
     "name": "stdin",
     "output_type": "stream",
     "text": [
      "Enter three integer numbers: 56 23 45\n"
     ]
    },
    {
     "name": "stdout",
     "output_type": "stream",
     "text": [
      "The largest number among the given numbers: 56\n"
     ]
    }
   ],
   "source": [
    "#12.Write a Python program that takes three numbers as input and prints the largest among them.\n",
    "def find_largest_number(a,b,c):\n",
    "    if a >= b and a >= c:\n",
    "        return a\n",
    "    elif b >= a and b >= c:\n",
    "        return b\n",
    "    else:\n",
    "        return c\n",
    "a,b,c = map(int,input(\"Enter three integer numbers:\").split())\n",
    "print(\"The largest number among the given numbers: \" + str(find_largest_number(a,b,c)))\n"
   ]
  },
  {
   "cell_type": "code",
   "execution_count": 41,
   "id": "1277441d-5229-4e05-a1d6-9f5334b43253",
   "metadata": {},
   "outputs": [
    {
     "name": "stdin",
     "output_type": "stream",
     "text": [
      "Enter a year : 2023\n"
     ]
    },
    {
     "name": "stdout",
     "output_type": "stream",
     "text": [
      "2023 is not a leap year.\n"
     ]
    }
   ],
   "source": [
    "#13.Leap Year Checker: Write a Python program that takes a year as input and determines if it is a leap year or not.\n",
    "def leap_year_checker(n):\n",
    "    if (n % 4 == 0 and n % 100 != 0) or (n % 400 == 0):\n",
    "        return True \n",
    "    else:\n",
    "        return False\n",
    "n = int(input(\"Enter a year :\"))\n",
    "Bool_data = leap_year_checker(n)\n",
    "if Bool_data:\n",
    "    print(n,\"is a leap year.\")\n",
    "else:\n",
    "    print(n,\"is not a leap year.\")"
   ]
  },
  {
   "cell_type": "code",
   "execution_count": 49,
   "id": "8ff02179-1b97-447e-94b9-14dd46776747",
   "metadata": {},
   "outputs": [
    {
     "name": "stdin",
     "output_type": "stream",
     "text": [
      "Enter your obtained marks: 90\n"
     ]
    },
    {
     "name": "stdout",
     "output_type": "stream",
     "text": [
      "You have got A+\n"
     ]
    }
   ],
   "source": [
    "#14. Write a Python program that takes a student’s percentage as input and prints their corresponding grade according to the following criteria: – 90% or above: A+ – 80-89%: A – 70-79%: B – 60-69%: C – Below 60%: Fail\n",
    "def grade_checker(grade):\n",
    "    if grade >= 90:\n",
    "        return \"A+\"\n",
    "    elif grade >= 80:\n",
    "        return \"A\"\n",
    "    elif grade >= 70:\n",
    "        return \"B\"\n",
    "    elif grade >= 60:\n",
    "        return \"C\"\n",
    "    else:\n",
    "        return \"Fail\"\n",
    "grade = int(input(\"Enter your obtained marks:\"))\n",
    "print(\"You have got \" + grade_checker(grade))"
   ]
  },
  {
   "cell_type": "code",
   "execution_count": 59,
   "id": "c98db2ca-257e-41ef-9a1d-5a980dc9ca33",
   "metadata": {},
   "outputs": [
    {
     "name": "stdin",
     "output_type": "stream",
     "text": [
      "Enter a character :  w\n"
     ]
    },
    {
     "name": "stdout",
     "output_type": "stream",
     "text": [
      "The character is consonent.\n"
     ]
    }
   ],
   "source": [
    "#15.Write a Python program that takes a single character as input and determines whether it is a vowel or a consonant.\n",
    "def character_checker(c):\n",
    "    vowels = 'aeiouAEIOU'\n",
    "    p = 0\n",
    "    for vowel in vowels:\n",
    "        if c == vowel:\n",
    "           p = 1\n",
    "           return True\n",
    "    if p != 1:\n",
    "        return False \n",
    "c = input(\"Enter a character : \")\n",
    "if character_checker(c):\n",
    "    print(\"The character is vowel.\")\n",
    "else:\n",
    "    print(\"The character is consonant.\")"
   ]
  },
  {
   "cell_type": "code",
   "execution_count": 71,
   "id": "bd89dfc0-d4bf-4b9e-93c2-eb7859560d65",
   "metadata": {},
   "outputs": [
    {
     "name": "stdin",
     "output_type": "stream",
     "text": [
      "Enter the time in hour in 24-hour format: 13.5\n"
     ]
    },
    {
     "name": "stdout",
     "output_type": "stream",
     "text": [
      "Invalid input\n"
     ]
    }
   ],
   "source": [
    "#16. Write a Python program that takes the time in hours (24-hour format) as input and prints “Good Morning”, “Good Afternoon”, “Good Evening”, or “Good Night” based on the time.\n",
    "def time_greeting(hour):\n",
    "    if 5 <= hour < 12:\n",
    "        return \"Good Morning\"\n",
    "    elif 12 <= hour < 17:\n",
    "        return \"Good Afternoon\"\n",
    "    elif 17 <= hour < 21:\n",
    "        return \"Good Evening\"\n",
    "    else:\n",
    "        return \"Good Night\"\n",
    "try:\n",
    "    hour = int(input(\"Enter the time in hour in 24-hour format:\"))\n",
    "    if 0 <= hour < 24:\n",
    "        print(time_greeting(hour))\n",
    "    else:\n",
    "        print(\"Invalid input\")\n",
    "except ValueError:\n",
    "    print(\"Invalid input\")  "
   ]
  },
  {
   "cell_type": "code",
   "execution_count": 79,
   "id": "94b60e28-e697-4ace-9a77-3d243eb3b428",
   "metadata": {},
   "outputs": [
    {
     "name": "stdin",
     "output_type": "stream",
     "text": [
      "Enter the value of sides of the triangle:  11 11 11\n"
     ]
    },
    {
     "name": "stdout",
     "output_type": "stream",
     "text": [
      "The triangle is equilateral.\n"
     ]
    }
   ],
   "source": [
    "#17.Write a Python program that takes three sides of a triangle as input and determines whether it forms an equilateral, isosceles, or scalene triangle.\n",
    "a,b,c = map(int,input(\"Enter the value of sides of the triangle: \").split())\n",
    "if (a == b) and (b == c):\n",
    "    print(\"The triangle is equilateral.\")\n",
    "elif (a == b) or (b == c) or (a == c):\n",
    "    print(\"The triangle is isosceles.\")\n",
    "else:\n",
    "    print(\"The triangle is scalane.\")\n",
    "    "
   ]
  },
  {
   "cell_type": "code",
   "execution_count": 89,
   "id": "e3842b96-4e1c-4210-afde-e5741ac080da",
   "metadata": {},
   "outputs": [
    {
     "name": "stdin",
     "output_type": "stream",
     "text": [
      "Enter the co-efficient of the quadratic equation :  1 -1 1\n"
     ]
    },
    {
     "name": "stdout",
     "output_type": "stream",
     "text": [
      "The roots are complex\n"
     ]
    }
   ],
   "source": [
    "#18.Write a Python program that takes the coefficients (a, b, c) of a quadratic equation as input and calculates and prints the real roots (if they exist) or a message indicating the complex roots.\n",
    "import math as m\n",
    "def quadratic_root(a,b,c):\n",
    "    disc = b**2 - 4*a*c\n",
    "    if disc >= 0:\n",
    "        p = (-b + m.sqrt(disc))/(2*a)\n",
    "        q = (-b - m.sqrt(disc))/(2*a)\n",
    "        return p,q\n",
    "    else:\n",
    "        return \"The roots are complex\"\n",
    "a,b,c = map(int,input(\"Enter the co-efficient of the quadratic equation : \").split())\n",
    "print(quadratic_root(a,b,c))       "
   ]
  },
  {
   "cell_type": "code",
   "execution_count": null,
   "id": "ed825a83-5f77-46fc-bc3d-fd236140beba",
   "metadata": {},
   "outputs": [],
   "source": [
    "#19.Write a Python program that takes an integer as input and prints whether the number falls within the ranges: 0-50, 51-100, 101-150, or above 150.\n",
    "def check_range(number):\n",
    "    if 0 <= number <= 50:\n",
    "        return \"The number is in the range 0-50.\"\n",
    "    elif 51 <= number <= 100:\n",
    "        return \"The number is in the range 51-100.\"\n",
    "    elif 101 <= number <= 150:\n",
    "        return \"The number is in the range 101-150.\"\n",
    "    elif number > 150:\n",
    "        return \"The number is above 150.\"\n",
    "    else:\n",
    "        return \"Invalid input. Please enter a valid integer.\"\n",
    "try:\n",
    "    num = int(input(\"Enter an integer: \"))\n",
    "    print(check_range(num))\n",
    "except ValueError:\n",
    "    print(\"Invalid input. Please enter a valid integer.\")\n"
   ]
  },
  {
   "cell_type": "code",
   "execution_count": 95,
   "id": "62dc281d-4986-44dc-93ce-d47097250ad9",
   "metadata": {},
   "outputs": [
    {
     "name": "stdin",
     "output_type": "stream",
     "text": [
      "Enter a natural number : 10\n"
     ]
    },
    {
     "name": "stdout",
     "output_type": "stream",
     "text": [
      "The sum of the all natural numbers upto N :55\n"
     ]
    }
   ],
   "source": [
    "#20.Write a Python program using a for loop to calculate the sum of the first N natural numbers, where N is taken as input from the user.\n",
    "N = int(input(\"Enter a natural number :\"))\n",
    "sm = 0\n",
    "for i in range(1,N+1) :\n",
    "    sm = sm + i\n",
    "    i = i + 1\n",
    "print(\"The sum of the all natural numbers upto N :\" + str(sm))    "
   ]
  },
  {
   "cell_type": "code",
   "execution_count": 101,
   "id": "5d358852-143d-4e0f-8892-2c692c1811e9",
   "metadata": {},
   "outputs": [
    {
     "name": "stdin",
     "output_type": "stream",
     "text": [
      "Enter a natural number: 6\n"
     ]
    },
    {
     "name": "stdout",
     "output_type": "stream",
     "text": [
      "The factorial of a given number N : 720\n"
     ]
    }
   ],
   "source": [
    "#21.Write a Python program using a while loop to calculate the factorial of a given number N.\n",
    "N = int(input(\"Enter a natural number:\"))\n",
    "i = 1\n",
    "pd = 1\n",
    "while i <= N:\n",
    "    pd = pd*i\n",
    "    i = i + 1\n",
    "print(\"The factorial of a given number N : \" + str(pd))"
   ]
  },
  {
   "cell_type": "code",
   "execution_count": 103,
   "id": "ef888060-0c58-4abe-b15e-490fbe7ea021",
   "metadata": {},
   "outputs": [
    {
     "name": "stdin",
     "output_type": "stream",
     "text": [
      "Enter a natural number :  5\n"
     ]
    },
    {
     "name": "stdout",
     "output_type": "stream",
     "text": [
      "5 * 1 = 5\n",
      "5 * 2 = 10\n",
      "5 * 3 = 15\n",
      "5 * 4 = 20\n",
      "5 * 5 = 25\n",
      "5 * 6 = 30\n",
      "5 * 7 = 35\n",
      "5 * 8 = 40\n",
      "5 * 9 = 45\n",
      "5 * 10 = 50\n"
     ]
    }
   ],
   "source": [
    "#22.Write a Python program using a for loop to print the multiplication table of a given number N.\n",
    "def multiplication_table(N):\n",
    "    for i in range(1,11):\n",
    "        print(f\"{N} * {i} = {N*i}\")\n",
    "N = int(input(\"Enter a natural number : \"))\n",
    "multiplication_table(N)\n"
   ]
  },
  {
   "cell_type": "code",
   "execution_count": 113,
   "id": "c1571740-6e45-4e6a-98a1-91f441ee0af2",
   "metadata": {},
   "outputs": [
    {
     "name": "stdin",
     "output_type": "stream",
     "text": [
      "Enter a number :  -56\n"
     ]
    },
    {
     "name": "stdout",
     "output_type": "stream",
     "text": [
      "2\n"
     ]
    }
   ],
   "source": [
    "#23.Write a Python program using a while loop to count the number of digits in a given integer N.\n",
    "def counting_digit(N):\n",
    "    count = 0\n",
    "    N = abs(N)\n",
    "    if N == 0:\n",
    "        return 1\n",
    "    while N > 0:\n",
    "        N = N//10\n",
    "        count = count + 1\n",
    "    return count\n",
    "N = int(input(\"Enter a number : \"))\n",
    "print(counting_digit(N))"
   ]
  },
  {
   "cell_type": "code",
   "execution_count": 121,
   "id": "051face2-c479-4361-ada3-bfd265de2a1e",
   "metadata": {},
   "outputs": [
    {
     "name": "stdin",
     "output_type": "stream",
     "text": [
      "Enter the limit :  89\n"
     ]
    },
    {
     "name": "stdout",
     "output_type": "stream",
     "text": [
      "[0, 1, 1, 2, 3, 5, 8, 13, 21, 34, 55, 89]\n"
     ]
    }
   ],
   "source": [
    "#24.Write a Python program using a for loop to generate the Fibonacci sequence up to a given limit N.\n",
    "def fibonacci_sequence(N):\n",
    "    a,b = 0,1\n",
    "    fibonacci = []\n",
    "    while a <= N:\n",
    "        fibonacci.append(a)\n",
    "        a,b = b,a+b\n",
    "    return fibonacci \n",
    "N = int(input(\"Enter the limit : \"))\n",
    "print(fibonacci_sequence(N))  "
   ]
  },
  {
   "cell_type": "code",
   "execution_count": 125,
   "id": "8c12bd3e-63f9-40d7-9eeb-d493e5cdce99",
   "metadata": {},
   "outputs": [
    {
     "name": "stdin",
     "output_type": "stream",
     "text": [
      "Enter a natural number :  100\n"
     ]
    },
    {
     "name": "stdout",
     "output_type": "stream",
     "text": [
      "2550\n"
     ]
    }
   ],
   "source": [
    "#25. Write a Python program using a while loop to calculate the sum of all even numbers between 1 and N, where N is taken as input from the user.\n",
    "def even_sum(N):\n",
    "    sm = 0\n",
    "    for i in range(0,N+1,2):\n",
    "        sm = sm + i\n",
    "    return sm \n",
    "N = int(input(\"Enter a natural number : \"))\n",
    "print(even_sum(N))"
   ]
  },
  {
   "cell_type": "code",
   "execution_count": 149,
   "id": "88aed57e-c490-4ba5-8a01-599d09ef494f",
   "metadata": {},
   "outputs": [
    {
     "name": "stdin",
     "output_type": "stream",
     "text": [
      "Enter a number:  5\n"
     ]
    },
    {
     "name": "stdout",
     "output_type": "stream",
     "text": [
      "\n",
      "Right Angled Triangle: \n",
      "*\n",
      "**\n",
      "***\n",
      "****\n",
      "*****\n",
      "\n",
      "Invert Right Angled Triangle:\n",
      "*****\n",
      "****\n",
      "***\n",
      "**\n",
      "*\n",
      "\n",
      "Pyramid:\n",
      "    *\n",
      "   ***\n",
      "  *****\n",
      " *******\n",
      "*********\n",
      "\n",
      "Diamond:\n",
      "    *\n",
      "   ***\n",
      "  *****\n",
      " *******\n",
      "*********\n",
      " *******\n",
      "  *****\n",
      "   ***\n",
      "    *\n"
     ]
    }
   ],
   "source": [
    "\n",
    "#26. Print Patterns: Write a Python program using nested for loops to print various patterns, such as a right-angled triangle, an inverted right-angled triangle, and so on.\n",
    "def right_angled_triangle(n):\n",
    "    for i in range(1,n+1):\n",
    "        print('*' * i)\n",
    "def invert_right_angled_triangle(n):\n",
    "    for i in range(n,0,-1):\n",
    "        print('*' * i)\n",
    "def pyramid(n):\n",
    "    for i in range(1,n+1):\n",
    "        print(' '*(n-i) + '*'*(2*i-1))\n",
    "def diamond(n):\n",
    "    for i in range(1,n+1):\n",
    "        print(' ' * (n-i) + '*' * (2*i - 1))\n",
    "    for i in range(n-1,0,-1):\n",
    "        print(' ' * (n-i) + '*' * (2*i - 1))\n",
    "n = int(input(\"Enter a number: \"))\n",
    "print(\"\\nRight Angled Triangle: \")\n",
    "right_angled_triangle(n)\n",
    "print(\"\\nInvert Right Angled Triangle:\")\n",
    "invert_right_angled_triangle(n)\n",
    "print(\"\\nPyramid:\")\n",
    "pyramid(n)\n",
    "print(\"\\nDiamond:\")\n",
    "diamond(n)"
   ]
  },
  {
   "cell_type": "code",
   "execution_count": 169,
   "id": "ae8e7bba-5441-4fb7-9ca7-530743c8d731",
   "metadata": {},
   "outputs": [
    {
     "name": "stdin",
     "output_type": "stream",
     "text": [
      "Enter a number: 10\n"
     ]
    },
    {
     "name": "stdout",
     "output_type": "stream",
     "text": [
      "10 is not a prime number.\n"
     ]
    }
   ],
   "source": [
    "#27.Write a Python program using a while loop to check if a given number N is prime or not.\n",
    "import math as m \n",
    "def prime_check(n):\n",
    "    if n == 2:\n",
    "        return True\n",
    "    for i in range(2,int(m.sqrt(n) + 1),1):\n",
    "        if n % i == 0:\n",
    "            return False\n",
    "    return True\n",
    "n = int(input(\"Enter a number:\"))\n",
    "if prime_check(n):\n",
    "    print(n,\"is a prime number.\")\n",
    "else:\n",
    "    print(n,\"is not a prime number.\")    "
   ]
  },
  {
   "cell_type": "code",
   "execution_count": 171,
   "id": "d7860c3d-2fe7-43ae-aa83-f83732be218d",
   "metadata": {},
   "outputs": [
    {
     "name": "stdout",
     "output_type": "stream",
     "text": [
      "10 1 37 4.625\n"
     ]
    }
   ],
   "source": [
    "#28.Given a list of integers, write a Python program using a for loop to find the sum, average, maximum, and minimum values in the list.\n",
    "A = [1,2,4,7,4,8,1,10]\n",
    "mx = A[0]\n",
    "mn = A[0]\n",
    "sm = 0\n",
    "for i in range(len(A)):\n",
    "    if mx < A[i]:\n",
    "        mx = A[i]\n",
    "    if mn > A[i]:\n",
    "        mn = A[i]\n",
    "    sm = sm + A[i]\n",
    "avg = sm/len(A)\n",
    "print(mx,mn,sm,avg)   "
   ]
  },
  {
   "cell_type": "code",
   "execution_count": 175,
   "id": "33a4f158-d6ea-4049-a3f4-17bdfa18d0e2",
   "metadata": {},
   "outputs": [
    {
     "name": "stdin",
     "output_type": "stream",
     "text": [
      "Enter the string : Asif\n"
     ]
    },
    {
     "name": "stdout",
     "output_type": "stream",
     "text": [
      "fisA\n"
     ]
    }
   ],
   "source": [
    "#29.Write a Python program using a while loop to reverse a given string.\n",
    "def reverse_st(string):\n",
    "    index = len(string) - 1\n",
    "    reverse_st = []\n",
    "    while index >= 0:\n",
    "        reverse_st.append(string[index])\n",
    "        index = index - 1\n",
    "    return ''.join(reverse_st)\n",
    "string = input(\"Enter the string :\")\n",
    "print(reverse_st(string))       "
   ]
  },
  {
   "cell_type": "code",
   "execution_count": 182,
   "id": "8de0c01c-411a-4b24-86c0-bfbe60b181dd",
   "metadata": {},
   "outputs": [
    {
     "name": "stdout",
     "output_type": "stream",
     "text": [
      "Multiplication Table of 1\n",
      "______________________________\n",
      "1 * 1 = 1\n",
      "1 * 2 = 2\n",
      "1 * 3 = 3\n",
      "1 * 4 = 4\n",
      "1 * 5 = 5\n",
      "1 * 6 = 6\n",
      "1 * 7 = 7\n",
      "1 * 8 = 8\n",
      "1 * 9 = 9\n",
      "1 * 10 = 10\n",
      "Multiplication Table of 2\n",
      "______________________________\n",
      "2 * 1 = 2\n",
      "2 * 2 = 4\n",
      "2 * 3 = 6\n",
      "2 * 4 = 8\n",
      "2 * 5 = 10\n",
      "2 * 6 = 12\n",
      "2 * 7 = 14\n",
      "2 * 8 = 16\n",
      "2 * 9 = 18\n",
      "2 * 10 = 20\n",
      "Multiplication Table of 3\n",
      "______________________________\n",
      "3 * 1 = 3\n",
      "3 * 2 = 6\n",
      "3 * 3 = 9\n",
      "3 * 4 = 12\n",
      "3 * 5 = 15\n",
      "3 * 6 = 18\n",
      "3 * 7 = 21\n",
      "3 * 8 = 24\n",
      "3 * 9 = 27\n",
      "3 * 10 = 30\n",
      "Multiplication Table of 4\n",
      "______________________________\n",
      "4 * 1 = 4\n",
      "4 * 2 = 8\n",
      "4 * 3 = 12\n",
      "4 * 4 = 16\n",
      "4 * 5 = 20\n",
      "4 * 6 = 24\n",
      "4 * 7 = 28\n",
      "4 * 8 = 32\n",
      "4 * 9 = 36\n",
      "4 * 10 = 40\n",
      "Multiplication Table of 5\n",
      "______________________________\n",
      "5 * 1 = 5\n",
      "5 * 2 = 10\n",
      "5 * 3 = 15\n",
      "5 * 4 = 20\n",
      "5 * 5 = 25\n",
      "5 * 6 = 30\n",
      "5 * 7 = 35\n",
      "5 * 8 = 40\n",
      "5 * 9 = 45\n",
      "5 * 10 = 50\n",
      "Multiplication Table of 6\n",
      "______________________________\n",
      "6 * 1 = 6\n",
      "6 * 2 = 12\n",
      "6 * 3 = 18\n",
      "6 * 4 = 24\n",
      "6 * 5 = 30\n",
      "6 * 6 = 36\n",
      "6 * 7 = 42\n",
      "6 * 8 = 48\n",
      "6 * 9 = 54\n",
      "6 * 10 = 60\n",
      "Multiplication Table of 7\n",
      "______________________________\n",
      "7 * 1 = 7\n",
      "7 * 2 = 14\n",
      "7 * 3 = 21\n",
      "7 * 4 = 28\n",
      "7 * 5 = 35\n",
      "7 * 6 = 42\n",
      "7 * 7 = 49\n",
      "7 * 8 = 56\n",
      "7 * 9 = 63\n",
      "7 * 10 = 70\n",
      "Multiplication Table of 8\n",
      "______________________________\n",
      "8 * 1 = 8\n",
      "8 * 2 = 16\n",
      "8 * 3 = 24\n",
      "8 * 4 = 32\n",
      "8 * 5 = 40\n",
      "8 * 6 = 48\n",
      "8 * 7 = 56\n",
      "8 * 8 = 64\n",
      "8 * 9 = 72\n",
      "8 * 10 = 80\n",
      "Multiplication Table of 9\n",
      "______________________________\n",
      "9 * 1 = 9\n",
      "9 * 2 = 18\n",
      "9 * 3 = 27\n",
      "9 * 4 = 36\n",
      "9 * 5 = 45\n",
      "9 * 6 = 54\n",
      "9 * 7 = 63\n",
      "9 * 8 = 72\n",
      "9 * 9 = 81\n",
      "9 * 10 = 90\n",
      "Multiplication Table of 10\n",
      "______________________________\n",
      "10 * 1 = 10\n",
      "10 * 2 = 20\n",
      "10 * 3 = 30\n",
      "10 * 4 = 40\n",
      "10 * 5 = 50\n",
      "10 * 6 = 60\n",
      "10 * 7 = 70\n",
      "10 * 8 = 80\n",
      "10 * 9 = 90\n",
      "10 * 10 = 100\n"
     ]
    }
   ],
   "source": [
    "#30.Write a Python program using nested loops to print the multiplication table from 1 to 10.\n",
    "for i in range(1,11):\n",
    "    print(f\"Multiplication Table of {i}\");\n",
    "    print(\"______________________________\")\n",
    "    for j in range(1,11):\n",
    "        print(f\"{i} * {j} = {i*j}\")\n"
   ]
  },
  {
   "cell_type": "code",
   "execution_count": 190,
   "id": "43a6e924-8789-4dee-ac63-d2e118a068a0",
   "metadata": {},
   "outputs": [
    {
     "name": "stdout",
     "output_type": "stream",
     "text": [
      "*\n",
      "**\n",
      "***\n",
      "****\n",
      "*****\n"
     ]
    }
   ],
   "source": [
    "#31.Write a Python program using nested loops to print the following pattern:\n",
    "\"\"\"\n",
    "*\n",
    "\n",
    "**\n",
    "\n",
    "***\n",
    "\n",
    "****\n",
    "\n",
    "*****\n",
    "\"\"\"\n",
    "for i in range(1,6):\n",
    "    for j in range(i):\n",
    "        print(\"*\",end = '')\n",
    "    print()       "
   ]
  },
  {
   "cell_type": "code",
   "execution_count": 194,
   "id": "ec937935-7acc-4c51-8b8b-1e8508fa8684",
   "metadata": {},
   "outputs": [
    {
     "name": "stdout",
     "output_type": "stream",
     "text": [
      "[[19. 22.]\n",
      " [43. 50.]]\n"
     ]
    }
   ],
   "source": [
    "#32. Matrix Multiplication: Write a Python program using nested loops to multiply two matrices.\n",
    "import numpy as np\n",
    "A = [[1,2],[3,4]]\n",
    "B = [[5,6],[7,8]]\n",
    "C = np.zeros((2,2))\n",
    "for i in range(len(A)):\n",
    "    for j in range(len(B[0])):\n",
    "        for k in range(len(B)):\n",
    "            C[i][j] = C[i][j] + A[i][k]*B[k][j]\n",
    "print(C)"
   ]
  },
  {
   "cell_type": "code",
   "execution_count": 201,
   "id": "6196742b-0d65-40e5-8f82-a65d1850e446",
   "metadata": {},
   "outputs": [
    {
     "name": "stdout",
     "output_type": "stream",
     "text": [
      "X 0 X 0 X 0 X 0 \n",
      "0 X 0 X 0 X 0 X \n",
      "X 0 X 0 X 0 X 0 \n",
      "0 X 0 X 0 X 0 X \n",
      "X 0 X 0 X 0 X 0 \n",
      "0 X 0 X 0 X 0 X \n",
      "X 0 X 0 X 0 X 0 \n",
      "0 X 0 X 0 X 0 X \n",
      "1 \n",
      "2 2 \n",
      "3 3 3 \n",
      "4 4 4 4 \n",
      "5 5 5 5 5 \n"
     ]
    }
   ],
   "source": [
    "#33.Write a Python program using nested loops to print a chessboard pattern (alternating “X” and “O” characters) of size 8×8.34. Number Pyramid: Write a Python program using nested loops to print a number pyramid like the following: 1 22 333 4444 55555\n",
    "size = 8\n",
    "for i in range(size):\n",
    "    for j in range(size):\n",
    "        if (i+j)%2 == 0:\n",
    "            print (\"X\",end = \" \")\n",
    "        else:\n",
    "            print(\"0\",end = \" \")\n",
    "    print()\n",
    "for i in range(1,6):\n",
    "    for j in range(i):\n",
    "        print(i,end = \" \")\n",
    "    print()"
   ]
  },
  {
   "cell_type": "code",
   "execution_count": 203,
   "id": "8f3ace57-eedd-4688-945b-ddb4a456e8d3",
   "metadata": {},
   "outputs": [
    {
     "name": "stdout",
     "output_type": "stream",
     "text": [
      "238\n"
     ]
    }
   ],
   "source": [
    "#34. List Sum: Write a Python program to find the sum of all elements in a given list of integers.\n",
    "A = [2,4,45,8,89,23,67]\n",
    "print(sum())"
   ]
  },
  {
   "cell_type": "code",
   "execution_count": 205,
   "id": "a220fa04-812e-47f6-b3d1-b78874e1ee77",
   "metadata": {},
   "outputs": [
    {
     "name": "stdout",
     "output_type": "stream",
     "text": [
      "34.0\n"
     ]
    }
   ],
   "source": [
    "#35.List Average: Write a Python program to calculate the average of all elements in a given list of integers.\n",
    "A = [2,4,45,8,89,23,67]\n",
    "avg = sum(A)/len(A)\n",
    "print(avg)"
   ]
  },
  {
   "cell_type": "code",
   "execution_count": 207,
   "id": "32fc414a-f056-4b52-a0a7-3da1330c34f1",
   "metadata": {},
   "outputs": [
    {
     "name": "stdout",
     "output_type": "stream",
     "text": [
      "89 2\n"
     ]
    }
   ],
   "source": [
    "#36.List Max and Min: Write a Python program to find the maximum and minimum values in a given list of integers.\n",
    "A = [2,4,45,8,89,23,67]\n",
    "print(max(A),min(A))"
   ]
  },
  {
   "cell_type": "code",
   "execution_count": 233,
   "id": "779f6383-5891-46cc-b572-3617dbad9702",
   "metadata": {},
   "outputs": [
    {
     "name": "stdout",
     "output_type": "stream",
     "text": [
      "[2, 4, 8, 23, 45, 67, 89]\n"
     ]
    }
   ],
   "source": [
    "#37.List Sorting: Write a Python program to sort a list of integers in ascending order.\n",
    "A = [2,4,45,8,89,23,67]\n",
    "A.sort()\n",
    "print(A)"
   ]
  },
  {
   "cell_type": "code",
   "execution_count": 221,
   "id": "6831c30b-fa5e-4133-82fd-f6144b6a03f4",
   "metadata": {},
   "outputs": [
    {
     "name": "stdout",
     "output_type": "stream",
     "text": [
      "[2, 56, 8, 12]\n"
     ]
    }
   ],
   "source": [
    "#38.List Filtering: Given a list of integers, write a Python program to create a new list that contains only the even numbers from the original list.\n",
    "A = [2,56,7,8,9,11,35,12,15]\n",
    "B = []\n",
    "for i in range(len(A)):\n",
    "    if A[i] % 2 == 0:\n",
    "        B.append(A[i])\n",
    "print(B)"
   ]
  },
  {
   "cell_type": "code",
   "execution_count": 231,
   "id": "250d0fee-4ce6-4586-a7cf-28b4376d2329",
   "metadata": {},
   "outputs": [
    {
     "name": "stdout",
     "output_type": "stream",
     "text": [
      "[15, 12, 35, 11, 9, 8, 7, 56, 2]\n"
     ]
    }
   ],
   "source": [
    "#39.List Reversal: Write a Python program to reverse a given list without using any built-in functions.\n",
    "A = [2,56,7,8,9,11,35,12,15]\n",
    "B = []\n",
    "for i in range(len(A)-1,-1,-1):\n",
    "    B.append(A[i])\n",
    "print(B)"
   ]
  },
  {
   "cell_type": "code",
   "execution_count": 235,
   "id": "5e1cf3f1-f3a1-41a2-b41c-743937368013",
   "metadata": {},
   "outputs": [
    {
     "name": "stdout",
     "output_type": "stream",
     "text": [
      "[1, 2, 3]\n"
     ]
    }
   ],
   "source": [
    "#40.List Manipulation: Given two lists of integers, write a Python program to create a new list that contains elements common to both lists.\n",
    "A = [1,2,3,34,56,89]\n",
    "B = [1,2,3,5,6,9]\n",
    "C = list(set(A) & set(B))\n",
    "print(C)"
   ]
  },
  {
   "cell_type": "code",
   "execution_count": 241,
   "id": "079569a1-6bec-499d-8b0e-39baf05e2ef9",
   "metadata": {},
   "outputs": [
    {
     "name": "stdout",
     "output_type": "stream",
     "text": [
      "3\n"
     ]
    }
   ],
   "source": [
    "#41.List Element Count: Write a Python program to count the occurrences of a specific element in a given list.\n",
    "A = [1,2,3,4,1,2,3,4,53,1,3,434,132,34,2,2,3,2]\n",
    "count = A.count(1)\n",
    "print(count)"
   ]
  },
  {
   "cell_type": "code",
   "execution_count": 243,
   "id": "7b18a09e-9b34-4354-a377-b25528e668f4",
   "metadata": {},
   "outputs": [
    {
     "name": "stdout",
     "output_type": "stream",
     "text": [
      "[1, 2, 3, 4, 53, 434, 132, 34]\n"
     ]
    }
   ],
   "source": [
    "#42. List Duplicates Removal: Write a Python program to remove duplicates from a given list while preserving the order of the elements.\n",
    "A = [1,2,3,4,1,2,3,4,53,1,3,434,132,34,2,2,3,2]\n",
    "unique_list = []\n",
    "for i in A:\n",
    "    if i not in unique_list:\n",
    "        unique_list.append(i)\n",
    "print(unique_list)"
   ]
  },
  {
   "cell_type": "code",
   "execution_count": 245,
   "id": "b5fb8cfe-fc3f-4a23-b764-d1bb073d7841",
   "metadata": {},
   "outputs": [
    {
     "name": "stdout",
     "output_type": "stream",
     "text": [
      "[1, 4, 9, 16, 25, 36, 49, 6084]\n"
     ]
    }
   ],
   "source": [
    "#43. List Comprehension: Given a list of integers, write a Python program to create a new list that contains the squares of the elements using list comprehension.\n",
    "A = [1,2,3,4,5,6,7,78]\n",
    "B = [x**2 for x in A]\n",
    "print(B)"
   ]
  },
  {
   "cell_type": "code",
   "execution_count": 257,
   "id": "a359c74b-449a-4750-8ad5-12b9a30c5283",
   "metadata": {},
   "outputs": [
    {
     "name": "stdout",
     "output_type": "stream",
     "text": [
      "[10, 10, 10]\n",
      "[10, 10, 10]\n",
      "[10, 10, 10]\n"
     ]
    }
   ],
   "source": [
    "#44. Matrix Addition: Write a Python program to add two matrices represented as nested lists.\n",
    "matrix1 = [\n",
    "    [1, 2, 3],\n",
    "    [4, 5, 6],\n",
    "    [7, 8, 9]\n",
    "]\n",
    "matrix2 = [\n",
    "    [9, 8, 7],\n",
    "    [6, 5, 4],\n",
    "    [3, 2, 1]\n",
    "]\n",
    "result_matrix = []\n",
    "for i in range(len(matrix1)):\n",
    "    row = []\n",
    "    for j in range(len(matrix2)):\n",
    "        row.append(matrix1[i][j] + matrix2[i][j])\n",
    "    result_matrix.append(row)\n",
    "for row in result_matrix:\n",
    "    print(row)   "
   ]
  },
  {
   "cell_type": "code",
   "execution_count": 259,
   "id": "01ccae76-bc26-43be-bb9b-bd5f5e2519f2",
   "metadata": {},
   "outputs": [
    {
     "name": "stdout",
     "output_type": "stream",
     "text": [
      "[1, 2, 3, 6, 7, 9, 10]\n"
     ]
    }
   ],
   "source": [
    "#45.Flatten Nested List: Write a Python program to flatten a given nested list and convert it into a single-dimensional list.\n",
    "nested_list = [[1,2,3],[6,7],[9,10]]\n",
    "flattened_list = []\n",
    "for sublist in nested_list:\n",
    "    flattened_list.extend(sublist)\n",
    "print(flattened_list)"
   ]
  },
  {
   "cell_type": "code",
   "execution_count": 263,
   "id": "6e158379-f2ae-4791-afe1-86e9306c6473",
   "metadata": {},
   "outputs": [
    {
     "name": "stdout",
     "output_type": "stream",
     "text": [
      "1:2\n",
      "2:3\n",
      "3:2\n",
      "4:1\n",
      "8:3\n",
      "9:1\n",
      "5:1\n",
      "6:1\n"
     ]
    }
   ],
   "source": [
    "#46.List Element Frequency: Given a nested list containing lists of integers, write a Python program to count the frequency of each element in the entire nested list.\n",
    "nested_list = [[1,2],[3,4],[1,2],[3,8],[8,9,5,2,6,8]]\n",
    "flat_list = sum(nested_list,[])\n",
    "frequency = {}\n",
    "for item in flat_list:\n",
    "    frequency[item] = frequency.get(item,0) + 1\n",
    "for element,count in frequency.items():\n",
    "    print(f\"{element}:{count}\")\n",
    "        "
   ]
  },
  {
   "cell_type": "code",
   "execution_count": 269,
   "id": "5b0d60ac-1e9c-44fd-b00d-4f86f4b91c50",
   "metadata": {},
   "outputs": [
    {
     "name": "stdout",
     "output_type": "stream",
     "text": [
      "\n",
      "Original Matrix:\n",
      "[1, 2, 3]\n",
      "[4, 5, 6]\n",
      "[7, 8, 9]\n",
      "\n",
      "Transposed Matrix:\n",
      "[1. 4. 7.]\n",
      "[2. 5. 8.]\n",
      "[3. 6. 9.]\n"
     ]
    }
   ],
   "source": [
    "#47.\n",
    "import numpy as np\n",
    "\n",
    "matrix = [\n",
    "    [1, 2, 3],\n",
    "    [4, 5, 6],\n",
    "    [7, 8, 9]\n",
    "]\n",
    "\n",
    "transposed = np.zeros((len(matrix[0]), len(matrix)))\n",
    "\n",
    "for i in range(len(matrix)):\n",
    "    for j in range(len(matrix[0])):\n",
    "        transposed[j][i] = matrix[i][j]\n",
    "\n",
    "# Display the original matrix\n",
    "print(\"\\nOriginal Matrix:\")\n",
    "for row in matrix:\n",
    "    print(row)\n",
    "\n",
    "# Display the transposed matrix\n",
    "print(\"\\nTransposed Matrix:\")\n",
    "for row in transposed:\n",
    "    print(row)\n"
   ]
  },
  {
   "cell_type": "code",
   "execution_count": 271,
   "id": "43be5bd5-1d09-4027-87f3-a36acae92962",
   "metadata": {},
   "outputs": [
    {
     "name": "stdout",
     "output_type": "stream",
     "text": [
      "[1, 2, 3, 6, 7, 9, 10]\n"
     ]
    }
   ],
   "source": [
    "#48.List of Lists Concatenation: Given a list of nested lists, write a Python program to concatenate all the sublists into a single flat list.\n",
    "nested_list = [[1,2,3],[6,7],[9,10]]\n",
    "flattened_list = []\n",
    "for sublist in nested_list:\n",
    "    flattened_list.extend(sublist)\n",
    "print(flattened_list)"
   ]
  },
  {
   "cell_type": "code",
   "execution_count": 273,
   "id": "a09faac6-202b-4f00-b787-eb858dec132b",
   "metadata": {},
   "outputs": [
    {
     "name": "stdout",
     "output_type": "stream",
     "text": [
      "(1, 2, 3, 4, 5, 6)\n"
     ]
    }
   ],
   "source": [
    "#49.Tuple Concatenation: Write a Python program to concatenate two tuples and create a new tuple.\n",
    "tuple1 = (1,2,3)\n",
    "tuple2 = (4,5,6)\n",
    "tuple3 = tuple1 + tuple2\n",
    "print(tuple3)"
   ]
  },
  {
   "cell_type": "code",
   "execution_count": 277,
   "id": "4924b690-4dce-413a-9d23-29f22b370b34",
   "metadata": {},
   "outputs": [
    {
     "name": "stdout",
     "output_type": "stream",
     "text": [
      "x: 20\n",
      "y: 30\n",
      "z: 68\n"
     ]
    }
   ],
   "source": [
    "#50.Tuple Unpacking: Given a tuple with three elements (x, y, z), write a Python program to unpack the tuple and assign the values to three variables.\n",
    "tuple1 = (20,30,68)\n",
    "x,y,z = tuple1\n",
    "print(\"x:\",x)\n",
    "print(\"y:\",y)\n",
    "print(\"z:\",z)"
   ]
  },
  {
   "cell_type": "code",
   "execution_count": 279,
   "id": "315439a9-1c59-4ee0-8ba8-caad95816b3e",
   "metadata": {},
   "outputs": [
    {
     "name": "stdout",
     "output_type": "stream",
     "text": [
      "(1, 3, 12, 20, 23, 56, 78, 98)\n"
     ]
    }
   ],
   "source": [
    "#51.Tuple Sorting: Write a Python program to sort a tuple of integers in ascending order.\n",
    "tuple1 = (20,1,3,56,12,78,98,23)\n",
    "sorted_list = sorted(tuple1)\n",
    "sorted_tuple = tuple(sorted_list)\n",
    "print(sorted_tuple)"
   ]
  },
  {
   "cell_type": "code",
   "execution_count": 281,
   "id": "e3985a49-fc96-440d-a889-50a1aa489db9",
   "metadata": {},
   "outputs": [
    {
     "name": "stdout",
     "output_type": "stream",
     "text": [
      "3\n"
     ]
    }
   ],
   "source": [
    "#52. Tuple Frequency Count: Given a tuple containing various elements, write a Python program to count the frequency of a specific element in the tuple.\n",
    "tuple1 = (20,1,3,56,12,78,98,23,1,1)\n",
    "count = tuple1.count(1)\n",
    "print(count)\n"
   ]
  },
  {
   "cell_type": "code",
   "execution_count": 283,
   "id": "9faaf85d-550a-4f43-b9c2-d0dae93a9d2b",
   "metadata": {},
   "outputs": [
    {
     "name": "stdout",
     "output_type": "stream",
     "text": [
      "[20, 1, 3, 56, 12, 78, 98, 23]\n"
     ]
    }
   ],
   "source": [
    "#53.\n",
    "tuple1 = (20,1,3,56,12,78,98,23)\n",
    "my_list = list(tuple1)\n",
    "print(my_list)"
   ]
  },
  {
   "cell_type": "code",
   "execution_count": 3,
   "id": "1d0c07fc-7316-4ffc-bb4c-8205f4a33b06",
   "metadata": {},
   "outputs": [
    {
     "name": "stdout",
     "output_type": "stream",
     "text": [
      "(67, 5, 4, 3, 2, 1)\n"
     ]
    }
   ],
   "source": [
    "#54.Tuple Reversal: Write a Python program to reverse a tuple without using any built-in functions.\n",
    "def reverse_tuple(my_typle):\n",
    "    reverse_list = []\n",
    "    for i in range(len(my_tuple)-1,-1,-1):\n",
    "        reverse_list.append(my_tuple[i])\n",
    "        reverse_tuple = tuple(reverse_list)\n",
    "    return reverse_tuple\n",
    "my_tuple = (1,2,3,4,5,67)\n",
    "print(reverse_tuple(my_tuple))    "
   ]
  },
  {
   "cell_type": "code",
   "execution_count": 9,
   "id": "c7dc76ec-f7ca-4cac-a36a-d5683bb003f7",
   "metadata": {},
   "outputs": [
    {
     "data": {
      "text/plain": [
       "(7, 6)"
      ]
     },
     "execution_count": 9,
     "metadata": {},
     "output_type": "execute_result"
    }
   ],
   "source": [
    "#55. Tuple Slicing: Given a tuple, write a Python program to extract a slice of elements from it.\n",
    "def slicing(my_tuple,start,end):\n",
    "    sliced_list = []\n",
    "    for i in range(start,end,1):\n",
    "        sliced_list.append(my_tuple[i])\n",
    "    return tuple(sliced_list)\n",
    "my_tuple = (9,8,7,6,5)\n",
    "start = 2\n",
    "end = 4\n",
    "slicing(my_tuple,start,end)"
   ]
  },
  {
   "cell_type": "code",
   "execution_count": 23,
   "id": "55d7a227-7c06-4e54-8774-436e6df97db6",
   "metadata": {},
   "outputs": [
    {
     "name": "stdout",
     "output_type": "stream",
     "text": [
      "(11, 11, 11, 11, 11, 11, 11, 12, 10, 11) (-9, -7, -5, -3, -1, 1, 3, 6, 6, 9) (10, 18, 24, 28, 30, 30, 28, 27, 16, 10)\n"
     ]
    }
   ],
   "source": [
    "#56. Tuple Operations: Given two tuples of integers, write a Python program to perform element-wise addition, subtraction, and multiplication and create new tuples for each operation.\n",
    "def tuple_operations(tuple1,tuple2):\n",
    "    addition = tuple(tuple1[i] + tuple2[i] for i in range(len(tuple1)))\n",
    "    subtraction = tuple(tuple1[i] - tuple2[i]for i in range(len(tuple1)))\n",
    "    mul = tuple(tuple1[i]*tuple2[i] for i in range(len(tuple1)))\n",
    "    return addition,subtraction,mul\n",
    "tuple1 = (1,2,3,4,5,6,7,9,8,10)\n",
    "tuple2 = (10,9,8,7,6,5,4,3,2,1)\n",
    "a,b,c = tuple_operations(tuple1,tuple2)\n",
    "print(a,b,c)"
   ]
  },
  {
   "cell_type": "code",
   "execution_count": 29,
   "id": "c682e2d7-341a-4cd0-b374-7b859425ffc1",
   "metadata": {},
   "outputs": [
    {
     "name": "stdout",
     "output_type": "stream",
     "text": [
      "12 does not exist in the given tuple (1, 2, 3, 4, 5, 6, 7, 8, 9, 10, 11).\n"
     ]
    }
   ],
   "source": [
    "#57. Tuple Membership Test: Write a Python program that takes an element as input and checks if it exists in a given tuple.\n",
    "def membership_check(my_tuple,element):\n",
    "    for item in my_tuple:\n",
    "        if item == element:\n",
    "            return True\n",
    "    return False\n",
    "my_tuple = (1,2,3,4,5,6,7,8,9,10,11)\n",
    "element = 12\n",
    "if membership_check(my_tuple,element):\n",
    "    print(f\"{element} exists in the given tuple {my_tuple}.\")\n",
    "else:\n",
    "    print(f\"{element} does not exist in the given tuple {my_tuple}.\")\n"
   ]
  },
  {
   "cell_type": "code",
   "execution_count": 33,
   "id": "831f05f6-8cce-4fb0-a4c6-4842f4d651df",
   "metadata": {},
   "outputs": [
    {
     "name": "stdout",
     "output_type": "stream",
     "text": [
      "(12, 'Asif', 12.5)\n"
     ]
    }
   ],
   "source": [
    "#58. Tuple Packing: Write a Python program to pack three variables into a single tuple and print the tuple.\n",
    "def pack_tuple(x,y,z):\n",
    "    packed_tuple = (x,y,z)\n",
    "    return packed_tuple\n",
    "x = 12\n",
    "y = 'Asif'\n",
    "z = 12.5\n",
    "print(pack_tuple(x,y,z))"
   ]
  },
  {
   "cell_type": "code",
   "execution_count": 1,
   "id": "e12b7cbb-ebc4-4262-ac39-97db4d236b27",
   "metadata": {},
   "outputs": [
    {
     "name": "stdout",
     "output_type": "stream",
     "text": [
      "5 9\n"
     ]
    }
   ],
   "source": [
    "#59. Nested List Element Access: Given a nested list, write a Python program to access and print specific elements from it.\n",
    "nested_list = [\n",
    "    [1,2,3],\n",
    "    [5,6,7],\n",
    "    [8,9]\n",
    "]\n",
    "element1 = nested_list[1][0]\n",
    "element2 = nested_list[2][1]\n",
    "print(element1,element2)"
   ]
  },
  {
   "cell_type": "code",
   "execution_count": 7,
   "id": "f8749e35-2d46-4953-89fa-b16bb61fa5cc",
   "metadata": {},
   "outputs": [
    {
     "name": "stdout",
     "output_type": "stream",
     "text": [
      "[[1, 2, 3, 4], 5, 6, 5, 6, 7, 8, 9]\n"
     ]
    }
   ],
   "source": [
    "#60. Nested List Flattening: Write a Python program to flatten a nested list and convert it into a single-dimensional list.\n",
    "nested_list = [\n",
    "    [1,2,3,4],\n",
    "    [5,6,7],\n",
    "    [8,9]\n",
    "]\n",
    "flatten_list = []\n",
    "for sublist in nested_list:\n",
    "    flatten_list.extend(sublist)\n",
    "print(flatten_list)\n",
    "    "
   ]
  },
  {
   "cell_type": "code",
   "execution_count": 9,
   "id": "71018ad9-7020-4c00-9916-96496d3b07df",
   "metadata": {},
   "outputs": [
    {
     "name": "stdout",
     "output_type": "stream",
     "text": [
      "[[1, 2, 3, 4], [5, 6, 7], [8, 9]]\n",
      "[[8, 9], [5, 6, 7], [1, 2, 3, 4]]\n"
     ]
    }
   ],
   "source": [
    "#61. Nested List Sorting: Given a nested list containing lists of integers, write a Python program to sort the sublists based on their lengths.\n",
    "nested_list = [\n",
    "    [1,2,3,4],\n",
    "    [5,6,7],\n",
    "    [8,9]\n",
    "]\n",
    "sorted_list = sorted(nested_list,key = len)\n",
    "print(nested_list)\n",
    "print(sorted_list)"
   ]
  },
  {
   "cell_type": "code",
   "execution_count": 11,
   "id": "83916f82-2dce-4dfb-96df-de574ef1d9d8",
   "metadata": {},
   "outputs": [
    {
     "name": "stdout",
     "output_type": "stream",
     "text": [
      "[1, 3, 5, 7] [2, 4, 6, 8]\n"
     ]
    }
   ],
   "source": [
    "#62. List of Tuples Conversion: Given a nested list containing tuples of (x, y) coordinates, write a Python program to convert it into a list of x-coordinates and a list of y-coordinates.\n",
    "coordinates = [[(1, 2), (3, 4)], [(5, 6), (7, 8)]]\n",
    "x_co = []\n",
    "y_co = []\n",
    "for sublist in coordinates:\n",
    "    for x,y in sublist:\n",
    "        x_co.append(x)\n",
    "        y_co.append(y)\n",
    "print(x_co,y_co)\n"
   ]
  },
  {
   "cell_type": "code",
   "execution_count": 15,
   "id": "9a0902c6-492c-4fd6-85e5-41480ac79ec0",
   "metadata": {},
   "outputs": [
    {
     "name": "stdout",
     "output_type": "stream",
     "text": [
      "[[1. 4. 7.]\n",
      " [2. 5. 8.]\n",
      " [3. 6. 9.]]\n"
     ]
    }
   ],
   "source": [
    "#63. Matrix Transpose: Write a Python program to transpose a given matrix represented as a nested list.\n",
    "import numpy as np\n",
    "matrix = [\n",
    "    [1, 2, 3],\n",
    "    [4, 5, 6],\n",
    "    [7, 8, 9]\n",
    "]\n",
    "Transposed_matrix = np.zeros((len(matrix[0]),len(matrix)))\n",
    "for i in range(len(matrix[0])):\n",
    "    for j in range(len(matrix)):\n",
    "        Transposed_matrix[i][j] = matrix[j][i]\n",
    "print(Transposed_matrix)"
   ]
  },
  {
   "cell_type": "code",
   "execution_count": 17,
   "id": "8fe54a22-4acf-4859-88f6-e6d4df7d5c9b",
   "metadata": {},
   "outputs": [
    {
     "name": "stdout",
     "output_type": "stream",
     "text": [
      "Original nested list: [[1, 2, 3], [4, 5], [6, 7, 8, 9]]\n",
      "Concatenated flat list: [1, 2, 3, 4, 5, 6, 7, 8, 9]\n"
     ]
    }
   ],
   "source": [
    "#64.Nested List Concatenation: Given a list of nested lists, write a Python program to concatenate all the sublists into a single flat list.\n",
    "nested_list = [[1, 2, 3], [4, 5], [6, 7, 8, 9]]\n",
    "flat_list = []\n",
    "for sublist in nested_list:\n",
    "    flat_list.extend(sublist)\n",
    "print(\"Original nested list:\", nested_list)\n",
    "print(\"Concatenated flat list:\", flat_list)\n"
   ]
  },
  {
   "cell_type": "code",
   "execution_count": 21,
   "id": "e3683e86-b355-4170-8ae8-f3fa91643f54",
   "metadata": {},
   "outputs": [
    {
     "name": "stdout",
     "output_type": "stream",
     "text": [
      "6\n"
     ]
    }
   ],
   "source": [
    "#65. Count Even Numbers: Write a Python program to count the number of even numbers in a nested list.\n",
    "nested_list = [[1, 2, 3], [4, 5], [6, 7, 8, 9,18,98]]\n",
    "count = 0\n",
    "for sublist in nested_list:\n",
    "    for num in sublist:\n",
    "        if num % 2 == 0:\n",
    "            count = count + 1\n",
    "        else:\n",
    "            continue\n",
    "print(count)\n"
   ]
  },
  {
   "cell_type": "code",
   "execution_count": 23,
   "id": "b92e7bc4-5bfa-4032-be26-2192faaf9663",
   "metadata": {},
   "outputs": [
    {
     "name": "stdout",
     "output_type": "stream",
     "text": [
      "102\n"
     ]
    }
   ],
   "source": [
    "#66. Maximum Element in Nested List: Write a Python program to find the maximum element in a nested list of integers.\n",
    "nested_list = [[1,98, 2, 3], [4, 5], [6, 7, 8, 9,18,98],[102,78,23,89,34]]\n",
    "max_element = float('-inf')\n",
    "for sublist in nested_list:\n",
    "    for element in sublist:\n",
    "        if element > max_element:\n",
    "            max_element = element\n",
    "print(max_element)"
   ]
  },
  {
   "cell_type": "code",
   "execution_count": 31,
   "id": "c7a840ec-838b-48d9-9e30-0258fa4d24c7",
   "metadata": {},
   "outputs": [
    {
     "name": "stdout",
     "output_type": "stream",
     "text": [
      "15\n"
     ]
    }
   ],
   "source": [
    "#67. Diagonal Sum of Matrix: Given a square matrix represented as a nested list, write a Python program to calculate the sum of the elements in the main diagonal.\n",
    "matrix = [\n",
    "    [1, 2, 3],\n",
    "    [4, 5, 6],\n",
    "    [7, 8, 9]\n",
    "]\n",
    "sm = 0\n",
    "for row in range(len(matrix)):\n",
    "    for col in range(len(matrix[0])):\n",
    "        if row == col:\n",
    "            sm = sm + matrix[row][col]\n",
    "print(sm)"
   ]
  },
  {
   "cell_type": "code",
   "execution_count": 35,
   "id": "9bd12355-67ef-44a1-a2a6-5caf6028d687",
   "metadata": {},
   "outputs": [
    {
     "name": "stdout",
     "output_type": "stream",
     "text": [
      "3 3\n"
     ]
    }
   ],
   "source": [
    "#68. Nested List Element Search: Write a Python program to search for a specific element in a nested list and return its position (row and column indices).\n",
    "matrix = [\n",
    "    [1, 2, 3],\n",
    "    [4, 5, 6],\n",
    "    [7, 8, 9]\n",
    "]\n",
    "element = 9\n",
    "for i in range(len(matrix)):\n",
    "    for j in range(len(matrix[0])):\n",
    "        if matrix[i][j] == element:\n",
    "            print(i+1,j+1)"
   ]
  },
  {
   "cell_type": "code",
   "execution_count": 1,
   "id": "18938277-9324-4aca-8b64-50f12dd27561",
   "metadata": {},
   "outputs": [
    {
     "name": "stdout",
     "output_type": "stream",
     "text": [
      "{1, 2, 3, 4, 5, 6, 7, 45, 23, 89}\n"
     ]
    }
   ],
   "source": [
    "#Duplicate Removal: Write a Python program that takes a list of elements as input and creates a new set containing only the unique elements from the list.\n",
    "A = [1,2,3,4,5,1,6,7,4,3,2,1,89,89,45,23,23,1]\n",
    "B = set(A)\n",
    "print(B)"
   ]
  },
  {
   "cell_type": "code",
   "execution_count": 3,
   "id": "de453eb8-30cc-47b2-9d23-31da834ebdae",
   "metadata": {},
   "outputs": [
    {
     "name": "stdout",
     "output_type": "stream",
     "text": [
      "{6, 7}\n"
     ]
    }
   ],
   "source": [
    "A = {1,2,3,4,5,6,7}\n",
    "B = {6,7,8,9,10}\n",
    "C = A & B\n",
    "print(C)"
   ]
  },
  {
   "cell_type": "code",
   "execution_count": 5,
   "id": "239a710a-b20c-4e41-bfab-78c0e938d8eb",
   "metadata": {},
   "outputs": [
    {
     "name": "stdout",
     "output_type": "stream",
     "text": [
      "{1, 2, 3, 4, 5, 6, 7, 8, 9, 10}\n"
     ]
    }
   ],
   "source": [
    "#71. Set Union: Given two sets A and B, write a Python program to find their union and print all the distinct elements from both sets.\n",
    "A = {1,2,3,4,5,6,7}\n",
    "B = {6,7,8,9,10}\n",
    "C = A | B\n",
    "print(C)"
   ]
  },
  {
   "cell_type": "code",
   "execution_count": 7,
   "id": "f81e08a4-8798-4412-a930-34616d4939ae",
   "metadata": {},
   "outputs": [
    {
     "name": "stdout",
     "output_type": "stream",
     "text": [
      "{1, 2, 3, 4, 5}\n"
     ]
    }
   ],
   "source": [
    "#72.Set Difference: Given two sets A and B, write a Python program to find the difference between set A and set B (i.e., elements present in A but not in B) and print the result.\n",
    "A = {1,2,3,4,5,6,7}\n",
    "B = {6,7,8,9,10}\n",
    "C = A - B\n",
    "print(C)"
   ]
  },
  {
   "cell_type": "code",
   "execution_count": 9,
   "id": "3e907892-ccff-4e55-bbcc-03955275acf8",
   "metadata": {},
   "outputs": [
    {
     "name": "stdout",
     "output_type": "stream",
     "text": [
      "{1, 2, 3, 4, 5, 8, 9, 10}\n"
     ]
    }
   ],
   "source": [
    "#73.Set Symmetric Difference: Given two sets A and B, write a Python program to find the symmetric difference between the two sets (i.e., elements that are present in either set A or set B, but not in both) and print the result.\n",
    "A = {1,2,3,4,5,6,7}\n",
    "B = {6,7,8,9,10}\n",
    "C = A ^ B\n",
    "print(C)"
   ]
  },
  {
   "cell_type": "code",
   "execution_count": 11,
   "id": "f38761b8-ee73-4d31-88e3-c598bd405066",
   "metadata": {},
   "outputs": [
    {
     "name": "stdout",
     "output_type": "stream",
     "text": [
      "{5, 6, 7} {1, 5, 6, 7, 8, 9, 10, 11, 19, 22} {8, 9, 10, 19, 22}\n"
     ]
    }
   ],
   "source": [
    "#74. Set Operations: Given three sets A, B, and C, write a Python program to find and print the intersection of A and B, the union of B and C, and the difference between C and A.\n",
    "A = {1,2,3,4,5,6,7}\n",
    "B = {5,6,7,8,9,10,11}\n",
    "C = {7,8,1,9,10,19,22}\n",
    "C1 = A & B \n",
    "C2 = B | C \n",
    "C3 = C - A\n",
    "print(C1,C2,C3)"
   ]
  },
  {
   "cell_type": "code",
   "execution_count": 13,
   "id": "4081aae3-4a3d-4d97-a8c9-ff4ea3ff9e4f",
   "metadata": {},
   "outputs": [
    {
     "name": "stdout",
     "output_type": "stream",
     "text": [
      "A is subset of B. The statement is : True\n"
     ]
    }
   ],
   "source": [
    "#75. Set Subset Check: Given two sets A and B, write a Python program to check if set A is a subset of set B and print the result.\n",
    "A = {1,2,3,4}\n",
    "B = {1,2,3,4,5,6,7,8,9,10}\n",
    "print(\"A is subset of B. The statement is :\",A.issubset(B))"
   ]
  },
  {
   "cell_type": "code",
   "execution_count": 15,
   "id": "b44367a1-8a24-4dce-8142-41c0e6a92726",
   "metadata": {},
   "outputs": [
    {
     "name": "stdout",
     "output_type": "stream",
     "text": [
      "A is the super-set of A.The statement is : True\n"
     ]
    }
   ],
   "source": [
    "#76.Set Superset Check: Given two sets A and B, write a Python program to check if set A is a superset of set B and print the result.\n",
    "A = {1,2,3,4,5,6,7,8,9,10}\n",
    "B = {1,2,3}\n",
    "print(\"A is the super-set of A.The statement is :\",A.issuperset(B))"
   ]
  },
  {
   "cell_type": "code",
   "execution_count": 17,
   "id": "79bb0f47-89b6-4a2e-beb8-8e329f6e7573",
   "metadata": {},
   "outputs": [
    {
     "name": "stdout",
     "output_type": "stream",
     "text": [
      "12\n"
     ]
    }
   ],
   "source": [
    "#77. Set Length Check: Write a Python program that takes a set as input and prints the number of elements in the set.\n",
    "A = {1,2,3,4,5,6,7,8,9,10,11,16}\n",
    "print(len(A))"
   ]
  },
  {
   "cell_type": "code",
   "execution_count": 21,
   "id": "5898bd05-0a9c-4f75-a28b-d2f82c08db5b",
   "metadata": {},
   "outputs": [
    {
     "name": "stdin",
     "output_type": "stream",
     "text": [
      "Enter an element:  33\n"
     ]
    },
    {
     "name": "stdout",
     "output_type": "stream",
     "text": [
      "Found.\n"
     ]
    }
   ],
   "source": [
    "#78. Set Membership Test: Write a Python program that takes an element as input and checks if it exists in a given set. Print “Found” if the element is present and “Not Found” otherwise.\n",
    "A = {1,2,3,4,5,89,34,67,12,33}\n",
    "element = int(input(\"Enter an element: \"))\n",
    "if element in A:\n",
    "    print(\"Found.\")\n",
    "else:\n",
    "    print(\"Not Found.\")"
   ]
  },
  {
   "cell_type": "code",
   "execution_count": 23,
   "id": "798d01d3-bcb4-4a0f-8fe9-50799bebf84e",
   "metadata": {},
   "outputs": [
    {
     "name": "stdout",
     "output_type": "stream",
     "text": [
      "{'Asif': 99, 'Imran': 90, 'Ahmed': 92, 'Harun': 98}\n"
     ]
    }
   ],
   "source": [
    "#77. Dictionary Manipulation: Given a dictionary with student names as keys and their corresponding scores as values, write a Python program to add a new student to the dictionary and update the score of an existing student.\n",
    "student_scores = {\n",
    "    \"Asif\": 86,\n",
    "    \"Imran\": 90,\n",
    "    \"Ahmed\":92\n",
    "}\n",
    "student_scores[\"Harun\"] = 98\n",
    "student_scores[\"Asif\"] = 99\n",
    "print(student_scores)"
   ]
  },
  {
   "cell_type": "code",
   "execution_count": 29,
   "id": "37bc94e2-564a-46b2-be64-f0513dc19dcd",
   "metadata": {},
   "outputs": [
    {
     "name": "stdout",
     "output_type": "stream",
     "text": [
      "Asif Imran Ahmed \n",
      "86 90 92 "
     ]
    }
   ],
   "source": [
    "#78.Dictionary Keys and Values: Write a Python program that takes a dictionary as input and prints all the keys and values in separate lines.\n",
    "student_scores = {\n",
    "    \"Asif\": 86,\n",
    "    \"Imran\": 90,\n",
    "    \"Ahmed\":92\n",
    "}\n",
    "for key in student_scores.keys():\n",
    "    print(key,end = \" \")\n",
    "print()\n",
    "for value in student_scores.values():\n",
    "    print(value,end = \" \")   "
   ]
  },
  {
   "cell_type": "code",
   "execution_count": 31,
   "id": "f3d83bf3-f7ca-4973-b14c-cc5482940637",
   "metadata": {},
   "outputs": [
    {
     "name": "stdout",
     "output_type": "stream",
     "text": [
      "3\n"
     ]
    }
   ],
   "source": [
    "#79. Dictionary Length: Write a Python program to calculate and print the number of key-value pairs in a given dictionary.\n",
    "student_scores = {\n",
    "    \"Asif\": 86,\n",
    "    \"Imran\": 90,\n",
    "    \"Ahmed\":92\n",
    "}\n",
    "print(len(student_scores))"
   ]
  },
  {
   "cell_type": "code",
   "execution_count": 41,
   "id": "757028a5-a486-41ac-91fb-215ce474692b",
   "metadata": {},
   "outputs": [
    {
     "name": "stdin",
     "output_type": "stream",
     "text": [
      "Enter a price: 4.5\n"
     ]
    },
    {
     "name": "stdout",
     "output_type": "stream",
     "text": [
      "No item with this price.\n"
     ]
    }
   ],
   "source": [
    "#80.Dictionary Value Search: Given a dictionary of items and their prices, write a Python program to search for an item based on its price and print the item’s name.\n",
    "items_prices = {\n",
    "    \"Apple\": 2.5,\n",
    "    \"Banana\": 1.2,\n",
    "    \"Cherry\": 3.0,\n",
    "    \"Date\": 5.0\n",
    "}\n",
    "item_search = float(input(\"Enter a price:\"))\n",
    "item_found = None\n",
    "for item,price in items_prices.items():\n",
    "    if price == item_search:\n",
    "        item_found = item\n",
    "        break\n",
    "if item_found:\n",
    "    print(item)\n",
    "else:\n",
    "    print(\"No item with this price.\")"
   ]
  },
  {
   "cell_type": "code",
   "execution_count": 43,
   "id": "e0c6877f-c7ce-4ab2-afd1-04268783266f",
   "metadata": {},
   "outputs": [
    {
     "name": "stdout",
     "output_type": "stream",
     "text": [
      "{'Alice': 85, 'Bob': 90, 'Charlie': 88, 'David': 92}\n"
     ]
    }
   ],
   "source": [
    "#81. Dictionary Merging: Given two dictionaries, write a Python program to merge them into a single dictionary and print the result.\n",
    "A = {\n",
    "    \"Alice\": 85,\n",
    "    \"Bob\": 90\n",
    "}\n",
    "\n",
    "B = {\n",
    "    \"Charlie\": 88,\n",
    "    \"David\": 92\n",
    "}\n",
    "C = {**A,**B}\n",
    "print(C)"
   ]
  },
  {
   "cell_type": "code",
   "execution_count": 49,
   "id": "46d5b5e0-4495-427d-b812-931ffe5eb32c",
   "metadata": {},
   "outputs": [
    {
     "name": "stdin",
     "output_type": "stream",
     "text": [
      "Enter an item name :  Apple\n"
     ]
    },
    {
     "name": "stdout",
     "output_type": "stream",
     "text": [
      "{'Banana': 20, 'Cherry': 15, 'Date': 5}\n"
     ]
    }
   ],
   "source": [
    "#82.Dictionary Key Removal: Given a dictionary of items and their quantities, write a Python program to remove a specific item from the dictionary based on user input.\n",
    "items_quantities = {\n",
    "    \"Apple\": 10,\n",
    "    \"Banana\": 20,\n",
    "    \"Cherry\": 15,\n",
    "    \"Date\": 5\n",
    "}\n",
    "item_to_remove = input(\"Enter an item name : \")\n",
    "if item_to_remove in items_quantities:\n",
    "    del items_quantities [item_to_remove]\n",
    "print(items_quantities)\n",
    "    "
   ]
  },
  {
   "cell_type": "code",
   "execution_count": 1,
   "id": "a78abf04-c952-4430-b36a-652ae293ae11",
   "metadata": {},
   "outputs": [
    {
     "name": "stdout",
     "output_type": "stream",
     "text": [
      "{'Diana': 22, 'Bob': 25, 'Alice': 30, 'Charlie': 35}\n"
     ]
    }
   ],
   "source": [
    "#83. Dictionary Sorting: Given a dictionary with names as keys and corresponding ages as values, write a Python program to sort the dictionary based on age in ascending order.\n",
    "def sort_by_age(data):\n",
    "    return dict(sorted(data.items(), key=lambda x: x[1]))\n",
    "people_ages = {\n",
    "    \"Alice\": 30,\n",
    "    \"Bob\": 25,\n",
    "    \"Charlie\": 35,\n",
    "    \"Diana\": 22\n",
    "}\n",
    "sorted_people = sort_by_age(people_ages)\n",
    "print(sorted_people)\n",
    "\n"
   ]
  },
  {
   "cell_type": "code",
   "execution_count": 5,
   "id": "c925c9fc-5727-4ac7-9104-487b1f58859f",
   "metadata": {},
   "outputs": [
    {
     "name": "stdout",
     "output_type": "stream",
     "text": [
      "{'I': 1, 'm': 2, 'r': 1, 'a': 1, 'n': 1, 'A': 2, 'h': 1, 'e': 1, 'd': 1, 's': 1, 'i': 1, 'f': 1}\n"
     ]
    }
   ],
   "source": [
    "#84. Dictionary Frequency Count: Write a Python program that takes a string as input and creates a dictionary containing each character as a key and its frequency as the value.\n",
    "def freq_check(input_string):\n",
    "    freq_dict = {}\n",
    "    for char in input_string:\n",
    "        freq_dict[char] = freq_dict.get(char,0) + 1\n",
    "    return freq_dict \n",
    "input_string = \"ImranAhmedAsif\"\n",
    "print(freq_check(input_string))"
   ]
  },
  {
   "cell_type": "code",
   "execution_count": 9,
   "id": "b2d6cac0-0112-4309-bd86-358fb466605a",
   "metadata": {},
   "outputs": [
    {
     "name": "stdout",
     "output_type": "stream",
     "text": [
      "{1: 1, 2: 4, 3: 9, 4: 16, 5: 25, 6: 36, 7: 49, 8: 64, 9: 81, 10: 100}\n"
     ]
    }
   ],
   "source": [
    "#85. Dictionary Comprehension: Given a list of integers, write a Python program to create a dictionary where the keys are the elements from the list, and the values are their squares.\n",
    "numbers = [1,2,3,4,5,6,7,8,9,10]\n",
    "square_numbers = {num : num**2 for num in numbers}\n",
    "print(square_numbers)"
   ]
  },
  {
   "cell_type": "code",
   "execution_count": 13,
   "id": "4dd37d75-ab50-4d84-853a-1eb85b459a4c",
   "metadata": {},
   "outputs": [
    {
     "name": "stdin",
     "output_type": "stream",
     "text": [
      "Enter the key :  t\n"
     ]
    },
    {
     "name": "stdout",
     "output_type": "stream",
     "text": [
      "Key Not Found.\n"
     ]
    }
   ],
   "source": [
    "#86. Dictionary Key Check: Write a Python program that takes a key as input and checks if it exists in a given dictionary. Print “Key Found” if the key is present and “Key Not Found” otherwise.\n",
    "sample_dict = {\n",
    "    'a': 1,\n",
    "    'b': 2,\n",
    "    'c': 3,\n",
    "    'd': 4\n",
    "}\n",
    "check_key = input(\"Enter the key : \")\n",
    "if check_key in sample_dict:\n",
    "    print(\"Key Found.\")\n",
    "else:\n",
    "    print(\"Key Not Found.\")\n",
    "    \n"
   ]
  },
  {
   "cell_type": "code",
   "execution_count": 19,
   "id": "ca1ee311-9f6f-4b52-9511-d07854b8f26e",
   "metadata": {},
   "outputs": [
    {
     "name": "stdin",
     "output_type": "stream",
     "text": [
      "Please enter the student id: student2\n"
     ]
    },
    {
     "name": "stdout",
     "output_type": "stream",
     "text": [
      "{'name': 'Ahmed', 'age': 24, 'sex': 'Male', 'adress': 'Tilaghar'}\n"
     ]
    }
   ],
   "source": [
    "#87. Access Nested Dictionary: Given a nested dictionary containing student details, write a Python program to access and print specific information such as a student’s name, age, and address.\n",
    "students = {\n",
    "    'student1':{\n",
    "       'name': 'Imran',\n",
    "       'age': 23,\n",
    "       'sex': 'Male',\n",
    "       'adress': 'Baluchar'\n",
    "    },\n",
    "   'student2':{\n",
    "      'name': 'Ahmed',\n",
    "      'age': 24,\n",
    "      'sex': 'Male',\n",
    "      'adress': 'Tilaghar'\n",
    "    }\n",
    "}\n",
    "student_id = input(\"Please enter the student id:\")\n",
    "if student_id in students:\n",
    "    student_info = students[student_id]\n",
    "    print(student_info)\n",
    "else:\n",
    "    print(\"Does not exist.\")\n"
   ]
  },
  {
   "cell_type": "code",
   "execution_count": 25,
   "id": "bc156198-6be8-4d44-9b7b-466c2ddbc795",
   "metadata": {},
   "outputs": [
    {
     "name": "stdout",
     "output_type": "stream",
     "text": [
      "9\n"
     ]
    }
   ],
   "source": [
    "#87.\n",
    "students_ = {\n",
    "    'student1':{\n",
    "       'name': 'Imran',\n",
    "       'age': 23,\n",
    "       'sex': 'Male',\n",
    "       'adress': 'Baluchar'\n",
    "    },\n",
    "   'student2':{\n",
    "      'name': 'Ahmed',\n",
    "      'age': 24,\n",
    "      'sex': 'Male',\n",
    "      'adress': 'Tilaghar',\n",
    "      'Phone': '01567865788'\n",
    "    }\n",
    "}\n",
    "total_pairs = sum(len(inner_dict) for inner_dict in students_.values())\n",
    "print(total_pairs)"
   ]
  },
  {
   "cell_type": "code",
   "execution_count": 31,
   "id": "6839e8cf-bbb7-4c63-b332-96733c9e7cdb",
   "metadata": {},
   "outputs": [
    {
     "name": "stdin",
     "output_type": "stream",
     "text": [
      "Student's name id : employee1\n"
     ]
    },
    {
     "name": "stdout",
     "output_type": "stream",
     "text": [
      "{'name': 'Imran', 'age': 23, 'salary': 8364574}\n",
      "{'name': 'Ahmed', 'age': 24, 'salary': 364573}\n",
      "{'name': 'Asif', 'age': 25, 'salary': 7234635}\n"
     ]
    }
   ],
   "source": [
    "#89. Nested Dictionary Update: Given a nested dictionary of employee details, write a Python program to update an employee’s salary based on their employee ID.\n",
    "Employes = {\n",
    "    'employee1':{\n",
    "        'name': 'Imran',\n",
    "        'age': 23,\n",
    "        'salary': 56777\n",
    "    },\n",
    "    'employee2':{\n",
    "        'name':'Ahmed',\n",
    "        'age': 24,\n",
    "        'salary': 364573\n",
    "    },\n",
    "    'employee3':{\n",
    "        'name':'Asif',\n",
    "        'age': 25,\n",
    "        'salary': 7234635\n",
    "    }\n",
    "}\n",
    "employe_id = input(\"Student's name id :\")\n",
    "new_salary = 8364574\n",
    "if employe_id in Employes:\n",
    "    Employes[employe_id]['salary'] = new_salary\n",
    "for id in Employes:\n",
    "    print(Employes[id])\n",
    "\n"
   ]
  },
  {
   "cell_type": "code",
   "execution_count": 33,
   "id": "eb0879dc-8b75-4874-a299-ce6c9e7599b8",
   "metadata": {},
   "outputs": [
    {
     "name": "stdout",
     "output_type": "stream",
     "text": [
      "{'product4': {'name': 'Monitor', 'price': 300, 'quantity': 15}, 'product3': {'name': 'Tablet', 'price': 400, 'quantity': 8}, 'product2': {'name': 'Phone', 'price': 600, 'quantity': 10}, 'product1': {'name': 'Laptop', 'price': 800, 'quantity': 5}}\n"
     ]
    }
   ],
   "source": [
    "#90. Nested Dictionary Sorting: Given a nested dictionary containing product details (product name, price, and quantity), write a Python program to sort the products based on their prices in ascending order.\n",
    "products = {\n",
    "    \"product1\": {\"name\": \"Laptop\", \"price\": 800, \"quantity\": 5},\n",
    "    \"product2\": {\"name\": \"Phone\", \"price\": 600, \"quantity\": 10},\n",
    "    \"product3\": {\"name\": \"Tablet\", \"price\": 400, \"quantity\": 8},\n",
    "    \"product4\": {\"name\": \"Monitor\", \"price\": 300, \"quantity\": 15},\n",
    "}\n",
    "sorted_products = dict(sorted(products.items(),key = lambda item : item[1][\"price\"]))\n",
    "print(sorted_products)\n"
   ]
  },
  {
   "cell_type": "code",
   "execution_count": 41,
   "id": "8d821380-018f-4b2f-bbf4-737dda01c3e5",
   "metadata": {},
   "outputs": [
    {
     "name": "stdin",
     "output_type": "stream",
     "text": [
      "Enter the search key:  age\n"
     ]
    },
    {
     "name": "stdout",
     "output_type": "stream",
     "text": [
      "25\n",
      "30\n",
      "35\n"
     ]
    }
   ],
   "source": [
    "#91. Nested Dictionary Key Search: Write a Python program that takes a key as input and searches for it in a nested dictionary. If found, print the corresponding value, otherwise, print “Key Not Found.”\n",
    "data = {\n",
    "    \"user1\": {\"name\": \"Alice\", \"age\": 25, \"city\": \"New York\"},\n",
    "    \"user2\": {\"name\": \"Bob\", \"age\": 30, \"city\": \"San Francisco\"},\n",
    "    \"user3\": {\"name\": \"Charlie\", \"age\": 35, \"city\": \"Chicago\"},\n",
    "}\n",
    "t = False\n",
    "user_input = input(\"Enter the search key: \")\n",
    "for outer_key,inner_key in data.items():\n",
    "    if user_input in inner_key:\n",
    "        t = True\n",
    "        print(inner_key[user_input])\n",
    "if t == False:\n",
    "    print(\"Key is not found.\")"
   ]
  },
  {
   "cell_type": "code",
   "execution_count": 51,
   "id": "2050b19d-7aa1-4bbe-96f6-2caadcff2074",
   "metadata": {},
   "outputs": [
    {
     "name": "stdin",
     "output_type": "stream",
     "text": [
      "Enter a number :  51\n"
     ]
    },
    {
     "name": "stdout",
     "output_type": "stream",
     "text": [
      "51 is not a prime number.\n"
     ]
    }
   ],
   "source": [
    "#92.Prime Number Checker: Write a Python program that takes a number as input and determines if it is a prime number or not. Use a `for` loop to check for factors. If a factor is found, `break` out of the loop.\n",
    "import math\n",
    "N = int(input(\"Enter a number : \"))\n",
    "n = int(math.sqrt(N))\n",
    "t = True\n",
    "for i in range(2,n+1):\n",
    "    if N == 2:\n",
    "        print(N,\"is a prime number.\")\n",
    "        break\n",
    "    else:\n",
    "        if N%i == 0:\n",
    "            t = False\n",
    "            print(N,\"is not a prime number.\")\n",
    "            break\n",
    "if t:\n",
    "    print(N,\"is a prime number.\")"
   ]
  },
  {
   "cell_type": "code",
   "execution_count": 53,
   "id": "c4f4314b-06c3-4100-b45e-5c24e58d7711",
   "metadata": {},
   "outputs": [
    {
     "name": "stdout",
     "output_type": "stream",
     "text": [
      "2\n",
      "4\n",
      "6\n",
      "8\n",
      "10\n",
      "12\n",
      "14\n",
      "16\n",
      "18\n",
      "20\n"
     ]
    }
   ],
   "source": [
    "#93. Even Number Printer: Write a Python program to print all even numbers from 1 to 20. Use a `for` loop and `continue` to skip odd numbers.\n",
    "for i in range(1,21):\n",
    "    if i%2 == 0:\n",
    "        print(i)\n",
    "    else:\n",
    "        continue\n"
   ]
  },
  {
   "cell_type": "code",
   "execution_count": 65,
   "id": "95afd4aa-6855-428e-a92d-1354c12226c2",
   "metadata": {},
   "outputs": [
    {
     "name": "stdin",
     "output_type": "stream",
     "text": [
      "Enter the password: asif86\n"
     ]
    },
    {
     "name": "stdout",
     "output_type": "stream",
     "text": [
      "The password is invalid.\n"
     ]
    },
    {
     "name": "stdin",
     "output_type": "stream",
     "text": [
      "Enter the password: Asif18887\n"
     ]
    },
    {
     "name": "stdout",
     "output_type": "stream",
     "text": [
      "Password Accepted.\n"
     ]
    }
   ],
   "source": [
    "#94. Password Validator: Write a Python program that takes a password as input and checks if it meets the following criteria: at least 8 characters long, contains both uppercase and lowercase letters, and has at least one digit. If the password is valid, print “Password accepted.” If not, use `continue` to prompt the user to enter a valid password.\n",
    "import re \n",
    "def is_valid_password(password):\n",
    "    if(len(password) >= 8 and re.search(r'[A-Z]',password) and re.search(r'[a-z]',password) and re.search(r'[0-9]',password)):\n",
    "        return True\n",
    "    return False \n",
    "while True:\n",
    "    user_input = input(\"Enter the password:\")\n",
    "    if is_valid_password(user_input):\n",
    "        print(\"Password Accepted.\")\n",
    "        break\n",
    "    else:\n",
    "        print(\"The password is invalid.\")\n",
    "        continue\n"
   ]
  },
  {
   "cell_type": "code",
   "execution_count": 67,
   "id": "3ba4f21e-779a-4d37-900d-0ba9a78aff81",
   "metadata": {},
   "outputs": [
    {
     "name": "stdout",
     "output_type": "stream",
     "text": [
      "3\n",
      "5\n",
      "6\n",
      "9\n",
      "10\n",
      "12\n",
      "15\n",
      "18\n",
      "20\n",
      "21\n",
      "24\n",
      "25\n",
      "27\n",
      "30\n",
      "33\n",
      "35\n",
      "36\n",
      "39\n",
      "40\n",
      "42\n",
      "45\n",
      "48\n",
      "50\n"
     ]
    }
   ],
   "source": [
    "#95. Divisible by 3 or 5: Write a Python program to print all numbers from 1 to 50 that are divisible by either 3 or 5. Use a `for` loop and `continue` to skip numbers that are not divisible by either 3 or 5.\n",
    "for i in range(1,51):\n",
    "    if i % 3 == 0 or i % 5 == 0:\n",
    "        print(i)\n",
    "    else:\n",
    "        continue"
   ]
  },
  {
   "cell_type": "code",
   "execution_count": 71,
   "id": "3ebe221d-f1f3-4cdc-b48d-8a1b254622e7",
   "metadata": {},
   "outputs": [
    {
     "name": "stdin",
     "output_type": "stream",
     "text": [
      "Enter the number: 1\n",
      "Enter the number: 2\n",
      "Enter the number: 3\n",
      "Enter the number: 4\n",
      "Enter the number: 5\n",
      "Enter the number: 6\n",
      "Enter the number: 7\n",
      "Enter the number: 8\n",
      "Enter the number: 9\n",
      "Enter the number: 10\n",
      "Enter the number: -9\n"
     ]
    },
    {
     "name": "stdout",
     "output_type": "stream",
     "text": [
      "55.0\n"
     ]
    }
   ],
   "source": [
    "#96. Positive Number Sum: Write a Python program that takes positive numbers as input until a negative number is entered. Then, calculate and print the sum of all positive numbers entered. Use a `while` loop and `break` to exit the loop when a negative number is encountered.\n",
    "t = True\n",
    "sm = 0\n",
    "while t :\n",
    "    a = float(input(\"Enter the number:\"))\n",
    "    if a < 0:\n",
    "        break\n",
    "    sm = sm + a\n",
    "print(sm)"
   ]
  },
  {
   "cell_type": "code",
   "execution_count": 77,
   "id": "28dfedaf-af94-46a6-8103-89df7d84209e",
   "metadata": {},
   "outputs": [
    {
     "name": "stdin",
     "output_type": "stream",
     "text": [
      "Enter the string: asa\n",
      "Enter the string: rere\n"
     ]
    },
    {
     "name": "stdout",
     "output_type": "stream",
     "text": [
      "The string is not palindromic.\n"
     ]
    },
    {
     "name": "stdin",
     "output_type": "stream",
     "text": [
      "Enter the string: asif\n"
     ]
    },
    {
     "name": "stdout",
     "output_type": "stream",
     "text": [
      "The string is not palindromic.\n"
     ]
    },
    {
     "name": "stdin",
     "output_type": "stream",
     "text": [
      "Enter the string: AsaasA\n"
     ]
    },
    {
     "name": "stdout",
     "output_type": "stream",
     "text": [
      "The string is palindromic.\n"
     ]
    }
   ],
   "source": [
    "#97. Word Palindrome Checker: Write a Python program that takes a word as input and checks if it is a palindrome (reads the same forwards and backward). Use `continue` to skip checking the word if its length is less than 3 characters.\n",
    "while True:\n",
    "    string = input(\"Enter the string:\")\n",
    "    if len(string) <= 3:\n",
    "        continue\n",
    "    if string == string[::-1]:\n",
    "        print(\"The string is palindromic.\")\n",
    "        break\n",
    "    else:\n",
    "        print(\"The string is not palindromic.\")\n"
   ]
  },
  {
   "cell_type": "code",
   "execution_count": 79,
   "id": "4ac9188c-3160-4099-b2e7-2f23630cb6ed",
   "metadata": {},
   "outputs": [
    {
     "name": "stdout",
     "output_type": "stream",
     "text": [
      "11\n"
     ]
    }
   ],
   "source": [
    "#98.Odd Number Finder:Write a Python program to find the first odd number from a list of integers. Use a `for` loop and `break` to stop the loop when the first odd number is found.\n",
    "A = [2,4,6,8,10,11,23,56,78]\n",
    "for a in A:\n",
    "    if a % 2 != 0:\n",
    "        print(a)\n",
    "        break"
   ]
  },
  {
   "cell_type": "code",
   "execution_count": 83,
   "id": "b2b60484-334c-47ab-9183-e3460441ed7c",
   "metadata": {},
   "outputs": [
    {
     "name": "stdin",
     "output_type": "stream",
     "text": [
      "Enter the guess number: 80\n"
     ]
    },
    {
     "name": "stdout",
     "output_type": "stream",
     "text": [
      "Your guess is high.\n"
     ]
    },
    {
     "name": "stdin",
     "output_type": "stream",
     "text": [
      "Enter the guess number: 70\n"
     ]
    },
    {
     "name": "stdout",
     "output_type": "stream",
     "text": [
      "Your guess is high.\n"
     ]
    },
    {
     "name": "stdin",
     "output_type": "stream",
     "text": [
      "Enter the guess number: 67\n"
     ]
    },
    {
     "name": "stdout",
     "output_type": "stream",
     "text": [
      "Your guess is correct.\n"
     ]
    }
   ],
   "source": [
    "#99.Number Guessing Game: Write a Python program that generates a random number between 1 and 100 and lets the user guess the number. Use a `while` loop, `break` when the correct number is guessed, and `continue` to keep prompting the user until they guess correctly.\n",
    "import random \n",
    "random_number = random.randint(1,100)\n",
    "while True:\n",
    "    guess_number = int(input(\"Enter the guess number:\"))\n",
    "    if guess_number == random_number:\n",
    "        print(\"Your guess is correct.\")\n",
    "        break\n",
    "    if guess_number > random_number:\n",
    "        print(\"Your guess is high.\")\n",
    "        continue\n",
    "    else:\n",
    "        print(\"Your guess is low.\")\n",
    "        continue\n",
    "        "
   ]
  },
  {
   "cell_type": "code",
   "execution_count": 87,
   "id": "218817d2-c039-4fad-86e0-653bd6594db0",
   "metadata": {},
   "outputs": [
    {
     "name": "stdin",
     "output_type": "stream",
     "text": [
      "Enter the string: ImranAhmedAsif\n"
     ]
    },
    {
     "name": "stdout",
     "output_type": "stream",
     "text": [
      "6\n"
     ]
    }
   ],
   "source": [
    "#100. Vowel Counter: Write a Python program that takes a string as input and counts the number of vowels (a, e, i, o, u) in it. Use a `for` loop and `continue` to skip counting non-vowel characters.\n",
    "string = input(\"Enter the string:\")\n",
    "count = 0\n",
    "for char in string:\n",
    "    if char in 'aeiouAEIOU':\n",
    "        count += 1\n",
    "    else:\n",
    "        continue\n",
    "print(count)\n"
   ]
  },
  {
   "cell_type": "code",
   "execution_count": 95,
   "id": "71f0ef33-d19d-40bc-b2a1-c15636b9a0f1",
   "metadata": {},
   "outputs": [
    {
     "name": "stdin",
     "output_type": "stream",
     "text": [
      "Enter a string: Imran\n"
     ]
    },
    {
     "name": "stdout",
     "output_type": "stream",
     "text": [
      "The string contains all unique characters.\n"
     ]
    }
   ],
   "source": [
    "#101.Unique Characters: Write a Python program that takes a string as input and checks if it contains all unique characters (no character repeats). Use a `for` loop and `break` when a character repeats.\n",
    "string = input(\"Enter a string:\")\n",
    "unique_string = []\n",
    "t = True\n",
    "for char in string:\n",
    "    if char not in unique_string:\n",
    "        unique_string.append(char)\n",
    "    else:\n",
    "        t = False\n",
    "        print(\"The string does not contain all unique characters.\")\n",
    "        break\n",
    "if t:\n",
    "    print(\"The string contains all unique characters.\")\n"
   ]
  },
  {
   "cell_type": "code",
   "execution_count": 99,
   "id": "00f003d8-a321-4a88-a195-e8dd4f8f6c34",
   "metadata": {},
   "outputs": [
    {
     "name": "stdin",
     "output_type": "stream",
     "text": [
      "Enter an integer number: 7\n"
     ]
    },
    {
     "name": "stdout",
     "output_type": "stream",
     "text": [
      "5040\n"
     ]
    }
   ],
   "source": [
    "#102. Factorial Calculator: Write a Python function called `factorial` that takes an integer as input and returns its factorial. Test the function with different values.\n",
    "def factorial(N):\n",
    "    if N == 1:\n",
    "        return 1\n",
    "    else:\n",
    "        return N * factorial(N-1)\n",
    "N = int(input(\"Enter an positive integer number:\"))\n",
    "print(factorial(N))\n"
   ]
  },
  {
   "cell_type": "code",
   "execution_count": 103,
   "id": "c64c8358-ff83-4401-8b3a-63c6be639e60",
   "metadata": {},
   "outputs": [
    {
     "name": "stdin",
     "output_type": "stream",
     "text": [
      "Enter the string:  imran\n"
     ]
    },
    {
     "name": "stdout",
     "output_type": "stream",
     "text": [
      "The string is not palindromic.\n"
     ]
    }
   ],
   "source": [
    "#103.Palindrome Checker: Write a Python function called `is_palindrome` that takes a string as input and returns `True` if it is a palindrome and `False` otherwise. Test the function with different words.\n",
    "def is_palindrome(string):\n",
    "    if string == string[::-1]:\n",
    "        return True\n",
    "    return False\n",
    "string = input(\"Enter the string: \")\n",
    "if is_palindrome(string):\n",
    "    print(\"The string is palindromic.\")\n",
    "else:\n",
    "    print(\"The string is not palindromic.\")\n",
    "    "
   ]
  },
  {
   "cell_type": "code",
   "execution_count": null,
   "id": "f823b365-c387-4f03-ad4a-0c47e049237d",
   "metadata": {},
   "outputs": [],
   "source": []
  },
  {
   "cell_type": "code",
   "execution_count": 109,
   "id": "0cab6a19-99ef-498d-95dc-e053c0414206",
   "metadata": {},
   "outputs": [
    {
     "name": "stdin",
     "output_type": "stream",
     "text": [
      "Enter the number of test case: 0\n"
     ]
    }
   ],
   "source": [
    "#104. Even or Odd Checker: Write a Python function called `even_or_odd` that takes an integer as input and returns “Even” if the number is even and “Odd” if the number is odd. Test the function with different numbers.\n",
    "def even_or_odd(N):\n",
    "    if N % 2 == 0:\n",
    "        return \"Even\"\n",
    "    else:\n",
    "        return \"Odd\"\n",
    "t = int(input(\"Enter the number of test case:\"))\n",
    "while t > 0 :\n",
    "    N = int(input(\"Enter an integer number:\"))\n",
    "    if even_or_odd(N) == \"Even\":\n",
    "        print(\"The number is even.\")\n",
    "    else:\n",
    "        print(\"The number is odd.\")\n",
    "    t = t - 1  "
   ]
  },
  {
   "cell_type": "markdown",
   "id": "94ce25d6-c4f4-4e75-8770-7778572bed19",
   "metadata": {},
   "source": []
  },
  {
   "cell_type": "code",
   "execution_count": null,
   "id": "7e8f2525-94fd-414a-81a3-14dc5239acd0",
   "metadata": {},
   "outputs": [],
   "source": []
  },
  {
   "cell_type": "code",
   "execution_count": 116,
   "id": "f3e6a484-d11e-443a-827c-74afd626f500",
   "metadata": {},
   "outputs": [
    {
     "name": "stdin",
     "output_type": "stream",
     "text": [
      "Enter the number of test cases:  3\n",
      "Enter the elements of the list:  1 2 3 4 5 6 7\n"
     ]
    },
    {
     "name": "stdout",
     "output_type": "stream",
     "text": [
      "Sum of the list: 28\n"
     ]
    },
    {
     "name": "stdin",
     "output_type": "stream",
     "text": [
      "Enter the elements of the list:  65 56 89 43 27 67 45\n"
     ]
    },
    {
     "name": "stdout",
     "output_type": "stream",
     "text": [
      "Sum of the list: 392\n"
     ]
    },
    {
     "name": "stdin",
     "output_type": "stream",
     "text": [
      "Enter the elements of the list:  7 8 9 0 3 12 34\n"
     ]
    },
    {
     "name": "stdout",
     "output_type": "stream",
     "text": [
      "Sum of the list: 73\n"
     ]
    }
   ],
   "source": [
    "#105.List Sum Calculator: Write a Python function called `list_sum` that takes a list of integers as input and returns the sum of all elements in the list. Test the function with different lists.\n",
    "def list_sum(A):\n",
    "    sm = 0\n",
    "    for i in range(len(A)):\n",
    "        sm = sm + A[i]\n",
    "    return sm\n",
    "t = int(input(\"Enter the number of test cases: \"))\n",
    "while t > 0:\n",
    "    a = input(\"Enter the elements of the list: \").split()\n",
    "    A = [int(x) for x in a]\n",
    "    print(\"Sum of the list:\", list_sum(A))\n",
    "    t -= 1"
   ]
  },
  {
   "cell_type": "code",
   "execution_count": 132,
   "id": "ad1214e1-034e-4655-a19f-10ee4e9b639a",
   "metadata": {},
   "outputs": [
    {
     "name": "stdin",
     "output_type": "stream",
     "text": [
      "Enter the number of test case: 5\n",
      "Enter two numbers :  24  12\n"
     ]
    },
    {
     "name": "stdout",
     "output_type": "stream",
     "text": [
      "12\n"
     ]
    },
    {
     "name": "stdin",
     "output_type": "stream",
     "text": [
      "Enter two numbers :  14 48\n"
     ]
    },
    {
     "name": "stdout",
     "output_type": "stream",
     "text": [
      "2\n"
     ]
    },
    {
     "name": "stdin",
     "output_type": "stream",
     "text": [
      "Enter two numbers :  78 45\n"
     ]
    },
    {
     "name": "stdout",
     "output_type": "stream",
     "text": [
      "3\n"
     ]
    },
    {
     "name": "stdin",
     "output_type": "stream",
     "text": [
      "Enter two numbers :  101 103\n"
     ]
    },
    {
     "name": "stdout",
     "output_type": "stream",
     "text": [
      "1\n"
     ]
    },
    {
     "name": "stdin",
     "output_type": "stream",
     "text": [
      "Enter two numbers :  23 89\n"
     ]
    },
    {
     "name": "stdout",
     "output_type": "stream",
     "text": [
      "1\n"
     ]
    }
   ],
   "source": [
    "#106. Greatest Common Divisor (GCD) Calculator: Write a Python function called `gcd` that takes two integers as input and returns their greatest common divisor. Test the function with different pairs of numbers.\n",
    "def gcd(a,b):\n",
    "    while b != 0:\n",
    "        a,b = b,a % b\n",
    "    return a\n",
    "t = int(input(\"Enter the number of test case:\"))\n",
    "while t > 0:\n",
    "    a,b =map(int,input(\"Enter two numbers : \").split())\n",
    "    print(gcd(a,b))\n",
    "    t = t -1"
   ]
  },
  {
   "cell_type": "code",
   "execution_count": 3,
   "id": "51e5c9fd-0c57-4c3c-b33e-ef493ed1c7ef",
   "metadata": {},
   "outputs": [
    {
     "name": "stdin",
     "output_type": "stream",
     "text": [
      "Enter the year: 2024\n"
     ]
    },
    {
     "name": "stdout",
     "output_type": "stream",
     "text": [
      "2024 is a leap year.\n"
     ]
    }
   ],
   "source": [
    "#107. Leap Year Checker: Write a Python function called `is_leap_year` that takes a year as input and returns `True` if it is a leap year and `False` otherwise. Test the function with different years.\n",
    "def is_leap_year(year):\n",
    "    if ((year % 4 == 0 and year % 100 != 0) or (year % 400 == 0)):\n",
    "        return True \n",
    "    else:\n",
    "        return False\n",
    "year = int(input(\"Enter the year:\"))\n",
    "if is_leap_year(year):\n",
    "    print(year,\"is a leap year.\")\n",
    "else: \n",
    "    print(year,\"is not a leap year.\")"
   ]
  },
  {
   "cell_type": "code",
   "execution_count": 14,
   "id": "3d6153e4-2bb6-4e87-8fae-e74b31a8246d",
   "metadata": {},
   "outputs": [
    {
     "name": "stdout",
     "output_type": "stream",
     "text": [
      "0.0031863156129465033\n"
     ]
    }
   ],
   "source": [
    "#108. Math Operations: Write a Python function called `math_operations` that takes three numbers and a string representing an operation (‘add’, ‘subtract’, ‘multiply’, or ‘divide’). The function should return the result of the specified operation on the three numbers. Implement the math operations as nested functions.\n",
    "def math_operations(a,b,c,operation):\n",
    "    def add():\n",
    "        return a+b+c\n",
    "    def subtract():\n",
    "        return a-b-c\n",
    "    def multiply():\n",
    "        return a*b*c\n",
    "    def divide():\n",
    "        try:\n",
    "            return a/b/c\n",
    "        except ZeroDivisonError:\n",
    "            return \"Error!Divison by zero.\"\n",
    "    operations = {\n",
    "        'add' : add,\n",
    "        'subtract' : subtract,\n",
    "        'multiply' : multiply,\n",
    "        'divide' : divide\n",
    "    }\n",
    "    return operations.get(operation,lambda : 'Error : Invalid operation!')()\n",
    "result = math_operations(19,89,67,'divide')\n",
    "print(result)"
   ]
  },
  {
   "cell_type": "code",
   "execution_count": 16,
   "id": "ca175394-307a-4888-9a7b-d8fb3ea647ac",
   "metadata": {},
   "outputs": [
    {
     "name": "stdout",
     "output_type": "stream",
     "text": [
      "Hello,Asif!How are you taday?\n"
     ]
    }
   ],
   "source": [
    "#109. Greeting Generator: Write a Python function called `greeting_generator` that takes a name as input and returns a greeting message using nested functions. The greeting message should be customizable (e.g., “Hello, {name}! How are you today?”).\n",
    "\n",
    "def greeting_generator(name):\n",
    "    def greeting_template():\n",
    "        return f\"Hello,{name}!How are you taday?\"\n",
    "    return greeting_template()\n",
    "print(greeting_generator(\"Asif\"))"
   ]
  },
  {
   "cell_type": "code",
   "execution_count": 18,
   "id": "ed10eea7-a27c-4390-9b4a-014ce72ffab4",
   "metadata": {},
   "outputs": [
    {
     "name": "stdout",
     "output_type": "stream",
     "text": [
      "98.60000000000001\n",
      "100.0\n"
     ]
    }
   ],
   "source": [
    "#110. Temperature Converter: Write a Python function called `temperature_converter` that takes a temperature value and a string representing the scale (‘C’ for Celsius or ‘F’ for Fahrenheit) as input. The function should convert the temperature from one scale to the other using nested functions and return the converted value.\n",
    "def temperature_converter(value,scale):\n",
    "    def to_celcius(farenheit):\n",
    "        return (farenheit - 32)*(5/9)\n",
    "    def to_farenheit(celcius):\n",
    "        return (celcius * (9/5)) + 32\n",
    "    if scale == 'C':\n",
    "        return to_farenheit(value)\n",
    "    elif scale == 'F':\n",
    "        return to_celcius(value)\n",
    "    else:\n",
    "        return \"Error!Invalid input expression.\"\n",
    "print(temperature_converter(37,'C'))\n",
    "print(temperature_converter(212,'F'))\n"
   ]
  },
  {
   "cell_type": "code",
   "execution_count": 20,
   "id": "ac7d0ba7-9f95-4d29-be29-e9a45074ec5b",
   "metadata": {},
   "outputs": [
    {
     "name": "stdin",
     "output_type": "stream",
     "text": [
      "Enter a non negative integer: 7\n"
     ]
    },
    {
     "name": "stdout",
     "output_type": "stream",
     "text": [
      "5040\n"
     ]
    }
   ],
   "source": [
    "#111. Factorial Calculation: Write a recursive Python function called `factorial` that takes a non-negative integer as input and returns its factorial.\n",
    "def factorial(N):\n",
    "    if N == 0 or N == 1:\n",
    "        return 1\n",
    "    else:\n",
    "        return N*factorial(N-1)\n",
    "N = int(input(\"Enter a non negative integer:\"))\n",
    "print(factorial(N))\n"
   ]
  },
  {
   "cell_type": "code",
   "execution_count": 34,
   "id": "4f6ffdbd-dd33-407e-8efc-49aea812da96",
   "metadata": {},
   "outputs": [
    {
     "name": "stdin",
     "output_type": "stream",
     "text": [
      "Enter a Non-negative integer:  8\n"
     ]
    },
    {
     "name": "stdout",
     "output_type": "stream",
     "text": [
      "21\n"
     ]
    }
   ],
   "source": [
    "#112. Fibonacci Series: Write a recursive Python function called `Fibonacci` that takes an integer N as input and returns the Nth number in the Fibonacci series. The Fibonacci series is defined as follows: F(0) = 0, F(1) = 1, and F(n) = F(n-1) + F(n-2) for n > 1.\n",
    "def Fibonacci(N):\n",
    "    if N == 0 or N == 1:\n",
    "        return N\n",
    "    else:\n",
    "        return Fibonacci(N-1) + Fibonacci(N-2)\n",
    "N = int(input(\"Enter a Non-negative integer: \"))\n",
    "print(Fibonacci(N))"
   ]
  },
  {
   "cell_type": "code",
   "execution_count": 38,
   "id": "ff3f67b9-47db-401d-a7a5-0d270e31c5e7",
   "metadata": {},
   "outputs": [
    {
     "name": "stdin",
     "output_type": "stream",
     "text": [
      "Enter a non-negative integer:  10001\n"
     ]
    },
    {
     "name": "stdout",
     "output_type": "stream",
     "text": [
      "2\n"
     ]
    }
   ],
   "source": [
    "#113.The sum of Digits: Write a recursive Python function called `sum_of_digits` that takes an integer as input and returns the sum of its digits.\n",
    "def sum_of_digits(number):\n",
    "    if number < 10:\n",
    "        return number\n",
    "    else:\n",
    "        return number % 10 + sum_of_digits(number//10)\n",
    "number = int(input(\"Enter a non-negative integer: \"))\n",
    "print(sum_of_digits(number))\n"
   ]
  },
  {
   "cell_type": "code",
   "execution_count": 58,
   "id": "5e8a2e3f-6ffb-469d-bb79-a09ea7214907",
   "metadata": {},
   "outputs": [
    {
     "name": "stdout",
     "output_type": "stream",
     "text": [
      "-1\n"
     ]
    }
   ],
   "source": [
    "#114.Binary Search: Write a recursive Python function called `binary_search` that takes a sorted list and a target value as input and returns the index of the target value in the list using binary search. If the target value is not in the list, return -1.\n",
    "def binary_search(arr,target,low,high):\n",
    "    if low > high:\n",
    "        return -1\n",
    "    mid = (low + high)//2\n",
    "    if arr[mid] == target:\n",
    "        return mid\n",
    "    elif arr[mid] > target:\n",
    "        return binary_search(arr,target,low,mid-1)\n",
    "    else:\n",
    "        return binary_search(arr,target,mid+1,high)\n",
    "arr = [1,2,5,7,8,20,21,45,76,89]\n",
    "target = 90\n",
    "low = 0\n",
    "high = len(arr) - 1\n",
    "print(binary_search(arr,target,low,high))"
   ]
  },
  {
   "cell_type": "code",
   "execution_count": 70,
   "id": "31cf3c61-5f1a-418c-a5c5-91368acb8651",
   "metadata": {},
   "outputs": [
    {
     "name": "stdin",
     "output_type": "stream",
     "text": [
      "Enter two positive integers : 2 10\n"
     ]
    },
    {
     "name": "stdout",
     "output_type": "stream",
     "text": [
      "1024\n"
     ]
    }
   ],
   "source": [
    "#115.Power Calculation: Write a recursive Python function called `power` that takes two positive integers, base and exponent, as input and returns the value of base raised to the exponent.\n",
    "def power(a,b):\n",
    "    if b == 0:\n",
    "        return 1\n",
    "    else:\n",
    "        return a * power(a,b-1)\n",
    "a,b = map(int,input(\"Enter two positive integers :\").split())\n",
    "print(power(a,b))"
   ]
  },
  {
   "cell_type": "code",
   "execution_count": null,
   "id": "91cda895-4236-4d34-b321-eb3d49f4fa58",
   "metadata": {},
   "outputs": [],
   "source": []
  },
  {
   "cell_type": "code",
   "execution_count": null,
   "id": "47c4d108-a7db-490d-9b04-1b0517935040",
   "metadata": {},
   "outputs": [],
   "source": []
  }
 ],
 "metadata": {
  "kernelspec": {
   "display_name": "Python 3 (ipykernel)",
   "language": "python",
   "name": "python3"
  },
  "language_info": {
   "codemirror_mode": {
    "name": "ipython",
    "version": 3
   },
   "file_extension": ".py",
   "mimetype": "text/x-python",
   "name": "python",
   "nbconvert_exporter": "python",
   "pygments_lexer": "ipython3",
   "version": "3.12.7"
  }
 },
 "nbformat": 4,
 "nbformat_minor": 5
}
